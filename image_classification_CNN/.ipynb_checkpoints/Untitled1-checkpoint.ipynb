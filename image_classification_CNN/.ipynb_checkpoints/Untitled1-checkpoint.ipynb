{
 "cells": [
  {
   "cell_type": "code",
   "execution_count": 1,
   "metadata": {},
   "outputs": [
    {
     "name": "stderr",
     "output_type": "stream",
     "text": [
      "/opt/conda/lib/python3.6/site-packages/h5py/__init__.py:36: FutureWarning: Conversion of the second argument of issubdtype from `float` to `np.floating` is deprecated. In future, it will be treated as `np.float64 == np.dtype(float).type`.\n",
      "  from ._conv import register_converters as _register_converters\n"
     ]
    }
   ],
   "source": [
    "%matplotlib inline\n",
    "import matplotlib.pyplot as plt\n",
    "\n",
    "import numpy as np\n",
    "import pandas as pd\n",
    "import cv2\n",
    "import tensorflow as tf\n",
    "import os"
   ]
  },
  {
   "cell_type": "code",
   "execution_count": 2,
   "metadata": {},
   "outputs": [],
   "source": [
    "import os\n",
    "images = []\n",
    "y_train = []\n",
    "for dicname in os.listdir(\"./train/\"):\n",
    "    #filedir = \"dicname\"\n",
    "    for filename in os.listdir(os.path.join(\"./train/\",dicname)):\n",
    "        img = cv2.imread(os.path.join(\"./train/opencountry/\",filename))\n",
    "        if img is not None:\n",
    "            img = cv2.cvtColor(img, cv2.COLOR_BGR2RGB)\n",
    "            #img = cv2.cvtColor(img, cv2.COLOR_BGR2GRAY)\n",
    "            img = cv2.resize(img, (100,100))\n",
    "            images.append(img)\n",
    "            if dicname == \"street\":\n",
    "                y_train.append(1)\n",
    "            elif dicname == \"industrial\":\n",
    "                y_train.append(2)\n",
    "            elif dicname == \"insidecity\":\n",
    "                y_train.append(3)\n",
    "            elif dicname == \"forest\":\n",
    "                y_train.append(4)\n",
    "            elif dicname == \"livingroom\":\n",
    "                y_train.append(5)\n",
    "            elif dicname == \"opencountry\":\n",
    "                y_train.append(6)\n",
    "            elif dicname == \"PARoffice\":\n",
    "                y_train.append(7)\n",
    "            elif dicname == \"mountain\":\n",
    "                y_train.append(8)\n",
    "            elif dicname == \"CALsuburb\":\n",
    "                y_train.append(9)\n",
    "            elif dicname == \"coast\":\n",
    "                y_train.append(10)\n",
    "            elif dicname == \"store\":\n",
    "                y_train.append(11)\n",
    "            elif dicname == \"bedroom\":\n",
    "                y_train.append(12)\n",
    "            elif dicname == \"tallbuilding\":\n",
    "                y_train.append(13)\n",
    "            elif dicname == \"highway\":\n",
    "                y_train.append(14)\n",
    "            elif dicname == \"kitchen\":\n",
    "                y_train.append(0)\n",
    "x_train = np.array(images)\n",
    "#x_train = x_train.reshape(2985,100,100,1)\n",
    "#y_train = np.array(y_train)\n",
    "#y_trian =  pd.get_dummies(y_train)\n",
    "#y_train = np.array(y_train)"
   ]
  },
  {
   "cell_type": "code",
   "execution_count": 3,
   "metadata": {},
   "outputs": [
    {
     "name": "stdout",
     "output_type": "stream",
     "text": [
      "(2985, 15, 2985, 100, 100, 3)\n"
     ]
    },
    {
     "name": "stderr",
     "output_type": "stream",
     "text": [
      "Using TensorFlow backend.\n"
     ]
    }
   ],
   "source": [
    "import keras\n",
    "#y_train= pd.get_dummies(y_train)\n",
    "y_train = np.array(y_train)\n",
    "y_train = keras.utils.to_categorical(y_train, 15)\n",
    "print(y_train.shape + x_train.shape)"
   ]
  },
  {
   "cell_type": "code",
   "execution_count": 4,
   "metadata": {},
   "outputs": [
    {
     "data": {
      "text/plain": [
       "array([0., 0., 0., 0., 0., 1., 0., 0., 0., 0., 0., 0., 0., 0., 0.],\n",
       "      dtype=float32)"
      ]
     },
     "execution_count": 4,
     "metadata": {},
     "output_type": "execute_result"
    },
    {
     "data": {
      "image/png": "[encoded data removed]",
      "text/plain": [
       "<Figure size 432x288 with 1 Axes>"
      ]
     },
     "metadata": {
      "needs_background": "light"
     },
     "output_type": "display_data"
    }
   ],
   "source": [
    "plt.imshow(x_train[5])\n",
    "y_train[5]"
   ]
  },
  {
   "cell_type": "code",
   "execution_count": 5,
   "metadata": {},
   "outputs": [],
   "source": [
    "import keras\n",
    "from keras.datasets import cifar10\n",
    "from keras.preprocessing.image import ImageDataGenerator\n",
    "from keras.models import Sequential, load_model\n",
    "from keras.layers import Dense, Dropout, Activation, Flatten\n",
    "from keras.layers import Conv2D, MaxPooling2D\n",
    "from keras.callbacks import EarlyStopping, ModelCheckpoint"
   ]
  },
  {
   "cell_type": "code",
   "execution_count": 6,
   "metadata": {},
   "outputs": [
    {
     "name": "stdout",
     "output_type": "stream",
     "text": [
      "x_train shape: (2388, 100, 100, 3)\n",
      "numbers of training sample: 2388\n",
      "numbers of testing sample: (2388, 15)\n"
     ]
    }
   ],
   "source": [
    "from sklearn.model_selection import train_test_split\n",
    "x_train, x_valid, y_train, y_valid = train_test_split(x_train, y_train, test_size=0.2, random_state= 12, shuffle=True)\n",
    "print(\"x_train shape:\", x_train.shape)\n",
    "print(\"numbers of training sample:\", x_train.shape[0])\n",
    "print(\"numbers of testing sample:\", y_train.shape)"
   ]
  },
  {
   "cell_type": "code",
   "execution_count": 7,
   "metadata": {},
   "outputs": [],
   "source": [
    "from keras.layers import GlobalAveragePooling2D\n",
    "from keras.layers.normalization import BatchNormalization\n",
    "from keras.layers.convolutional import Conv2D, MaxPooling2D, ZeroPadding2D\n",
    "# build our CNN model\n",
    "model = Sequential()\n",
    "\n",
    "model.add(Conv2D(64,(3,3), padding='same',\n",
    "                 input_shape = (100,100,3)))\n",
    "model.add(Activation('relu'))\n",
    "\n",
    "model.add(Conv2D(64,(3,3), padding='same'))\n",
    "model.add(Activation('relu'))\n",
    "model.add(MaxPooling2D(pool_size=(2, 2), strides=(2,2)))\n",
    "\n",
    "model.add(Conv2D(128,(3,3), padding='same'))\n",
    "model.add(Activation('relu'))\n",
    "model.add(Conv2D(128,(3,3), padding='same'))\n",
    "model.add(Activation('relu'))\n",
    "model.add(MaxPooling2D(pool_size=(2, 2), strides=(2,2)))\n",
    "\n",
    "model.add(Conv2D(256,(3,3), padding='same'))\n",
    "model.add(Activation('relu'))\n",
    "model.add(Conv2D(256,(3,3), padding='same'))\n",
    "model.add(Activation('relu'))\n",
    "model.add(Conv2D(256,(3,3), padding='same'))\n",
    "model.add(Activation('relu'))\n",
    "model.add(MaxPooling2D(pool_size=(2, 2), strides=(2,2)))\n",
    "\n",
    "model.add(Conv2D(512,(3,3), padding='same'))\n",
    "model.add(Activation('relu'))\n",
    "model.add(Conv2D(512,(3,3), padding='same'))\n",
    "model.add(Activation('relu'))\n",
    "model.add(Conv2D(512,(3,3), padding='same'))\n",
    "model.add(Activation('relu'))\n",
    "model.add(MaxPooling2D(pool_size=(2, 2), strides=(2,2)))\n",
    "\n",
    "model.add(Conv2D(512,(3,3), padding='same'))\n",
    "model.add(Activation('relu'))\n",
    "model.add(Conv2D(512,(3,3), padding='same'))\n",
    "model.add(Activation('relu'))\n",
    "\n",
    "model.add(Conv2D(512,(3,3), padding='same'))\n",
    "model.add(Activation('relu'))\n",
    "\n",
    "model.add(MaxPooling2D(pool_size=(2, 2), strides=(2,2)))\n",
    "\n",
    "model.add(Flatten())\n",
    "model.add(Dense(1024, activation='relu'))\n",
    "model.add(Dropout(0.5))\n",
    "model.add(Dense(1024, activation='relu'))\n",
    "model.add(Dropout(0.5))\n",
    "model.add(Dense(15, activation='softmax'))\n"
   ]
  },
  {
   "cell_type": "code",
   "execution_count": 20,
   "metadata": {},
   "outputs": [],
   "source": [
    "import keras\n",
    "from keras.datasets import cifar10\n",
    "from keras.preprocessing.image import ImageDataGenerator\n",
    "from keras.models import Sequential, load_model\n",
    "from keras.layers import Dense, Dropout, Activation, Flatten\n",
    "from keras.layers import Conv2D, MaxPooling2D\n",
    "from keras.optimizers import SGD\n",
    "from keras.callbacks import EarlyStopping, ModelCheckpoint\n",
    "#model = VGG_16()\n",
    "optimizer = SGD(lr=0.0001, momentum=0.9)\n",
    "model.compile(loss = 'categorical_crossentropy', optimizer = optimizer, metrics=['accuracy'])\n",
    "x_train = x_train.astype('float32')\n",
    "x_valid = x_valid.astype('float32')\n",
    "x_train /= 255.\n",
    "x_valid /= 255."
   ]
  },
  {
   "cell_type": "code",
   "execution_count": 21,
   "metadata": {},
   "outputs": [
    {
     "name": "stdout",
     "output_type": "stream",
     "text": [
      "Using real-time data augmentation.\n"
     ]
    }
   ],
   "source": [
    "print('Using real-time data augmentation.')\n",
    "# This will do preprocessing and realtime data augmentation:\n",
    "datagen = ImageDataGenerator(\n",
    "    rotation_range=30,  # randomly rotate images in the range -30~30\n",
    "    width_shift_range=0.1,  # randomly shift images horizontally (fraction of total width)\n",
    "    height_shift_range=0.1,  # randomly shift images vertically (fraction of total height)\n",
    "    horizontal_flip=True,  # randomly flip images\n",
    "    vertical_flip=False)  # randomly flip images"
   ]
  },
  {
   "cell_type": "code",
   "execution_count": 22,
   "metadata": {},
   "outputs": [
    {
     "name": "stdout",
     "output_type": "stream",
     "text": [
      "/home/jovyan/program/kaggle/classification\n"
     ]
    }
   ],
   "source": [
    "import os\n",
    "#os.chdir('///home/jovyan/program/DL/11_1下tensorflow_simpson')\n",
    "save_dir = os.path.join(os.getcwd(),'saved_model')\n",
    "print(os.getcwd())\n",
    "model_name = \"classification_cnn_model1\"\n",
    "if not os.path.isdir(save_dir):\n",
    "    os.makedirs(save_dir)\n",
    "model_path = os.path.join(save_dir, model_name)\n",
    "checkpoint = ModelCheckpoint(model_path, monitor = 'loss', \n",
    "                            save_best_only=True, verbose=1)\n",
    "#earlystop\n",
    "earlystop = EarlyStopping(monitor='loss', patience=5, verbose =1)"
   ]
  },
  {
   "cell_type": "code",
   "execution_count": 23,
   "metadata": {},
   "outputs": [
    {
     "name": "stdout",
     "output_type": "stream",
     "text": [
      "_________________________________________________________________\n",
      "Layer (type)                 Output Shape              Param #   \n",
      "=================================================================\n",
      "conv2d_1 (Conv2D)            (None, 100, 100, 64)      1792      \n",
      "_________________________________________________________________\n",
      "activation_1 (Activation)    (None, 100, 100, 64)      0         \n",
      "_________________________________________________________________\n",
      "conv2d_2 (Conv2D)            (None, 100, 100, 64)      36928     \n",
      "_________________________________________________________________\n",
      "activation_2 (Activation)    (None, 100, 100, 64)      0         \n",
      "_________________________________________________________________\n",
      "max_pooling2d_1 (MaxPooling2 (None, 50, 50, 64)        0         \n",
      "_________________________________________________________________\n",
      "conv2d_3 (Conv2D)            (None, 50, 50, 128)       73856     \n",
      "_________________________________________________________________\n",
      "activation_3 (Activation)    (None, 50, 50, 128)       0         \n",
      "_________________________________________________________________\n",
      "conv2d_4 (Conv2D)            (None, 50, 50, 128)       147584    \n",
      "_________________________________________________________________\n",
      "activation_4 (Activation)    (None, 50, 50, 128)       0         \n",
      "_________________________________________________________________\n",
      "max_pooling2d_2 (MaxPooling2 (None, 25, 25, 128)       0         \n",
      "_________________________________________________________________\n",
      "conv2d_5 (Conv2D)            (None, 25, 25, 256)       295168    \n",
      "_________________________________________________________________\n",
      "activation_5 (Activation)    (None, 25, 25, 256)       0         \n",
      "_________________________________________________________________\n",
      "conv2d_6 (Conv2D)            (None, 25, 25, 256)       590080    \n",
      "_________________________________________________________________\n",
      "activation_6 (Activation)    (None, 25, 25, 256)       0         \n",
      "_________________________________________________________________\n",
      "conv2d_7 (Conv2D)            (None, 25, 25, 256)       590080    \n",
      "_________________________________________________________________\n",
      "activation_7 (Activation)    (None, 25, 25, 256)       0         \n",
      "_________________________________________________________________\n",
      "max_pooling2d_3 (MaxPooling2 (None, 12, 12, 256)       0         \n",
      "_________________________________________________________________\n",
      "conv2d_8 (Conv2D)            (None, 12, 12, 512)       1180160   \n",
      "_________________________________________________________________\n",
      "activation_8 (Activation)    (None, 12, 12, 512)       0         \n",
      "_________________________________________________________________\n",
      "conv2d_9 (Conv2D)            (None, 12, 12, 512)       2359808   \n",
      "_________________________________________________________________\n",
      "activation_9 (Activation)    (None, 12, 12, 512)       0         \n",
      "_________________________________________________________________\n",
      "conv2d_10 (Conv2D)           (None, 12, 12, 512)       2359808   \n",
      "_________________________________________________________________\n",
      "activation_10 (Activation)   (None, 12, 12, 512)       0         \n",
      "_________________________________________________________________\n",
      "max_pooling2d_4 (MaxPooling2 (None, 6, 6, 512)         0         \n",
      "_________________________________________________________________\n",
      "conv2d_11 (Conv2D)           (None, 6, 6, 512)         2359808   \n",
      "_________________________________________________________________\n",
      "activation_11 (Activation)   (None, 6, 6, 512)         0         \n",
      "_________________________________________________________________\n",
      "conv2d_12 (Conv2D)           (None, 6, 6, 512)         2359808   \n",
      "_________________________________________________________________\n",
      "activation_12 (Activation)   (None, 6, 6, 512)         0         \n",
      "_________________________________________________________________\n",
      "conv2d_13 (Conv2D)           (None, 6, 6, 512)         2359808   \n",
      "_________________________________________________________________\n",
      "activation_13 (Activation)   (None, 6, 6, 512)         0         \n",
      "_________________________________________________________________\n",
      "max_pooling2d_5 (MaxPooling2 (None, 3, 3, 512)         0         \n",
      "_________________________________________________________________\n",
      "flatten_1 (Flatten)          (None, 4608)              0         \n",
      "_________________________________________________________________\n",
      "dense_1 (Dense)              (None, 1024)              4719616   \n",
      "_________________________________________________________________\n",
      "dropout_1 (Dropout)          (None, 1024)              0         \n",
      "_________________________________________________________________\n",
      "dense_2 (Dense)              (None, 1024)              1049600   \n",
      "_________________________________________________________________\n",
      "dropout_2 (Dropout)          (None, 1024)              0         \n",
      "_________________________________________________________________\n",
      "dense_3 (Dense)              (None, 15)                15375     \n",
      "=================================================================\n",
      "Total params: 20,499,279\n",
      "Trainable params: 20,499,279\n",
      "Non-trainable params: 0\n",
      "_________________________________________________________________\n"
     ]
    }
   ],
   "source": [
    "model.summary()"
   ]
  },
  {
   "cell_type": "code",
   "execution_count": 24,
   "metadata": {},
   "outputs": [
    {
     "name": "stdout",
     "output_type": "stream",
     "text": [
      "Epoch 1/20\n",
      "80/80 [==============================] - 6s 81ms/step - loss: 2.6719 - acc: 0.0879 - val_loss: 2.6635 - val_acc: 0.0854\n",
      "\n",
      "Epoch 00001: loss improved from inf to 2.67242, saving model to /home/jovyan/program/kaggle/classification/saved_model/classification_cnn_model1\n",
      "Epoch 2/20\n",
      "80/80 [==============================] - 5s 69ms/step - loss: 2.6696 - acc: 0.0879 - val_loss: 2.6635 - val_acc: 0.0854\n",
      "\n",
      "Epoch 00002: loss improved from 2.67242 to 2.66970, saving model to /home/jovyan/program/kaggle/classification/saved_model/classification_cnn_model1\n",
      "Epoch 3/20\n",
      "80/80 [==============================] - 5s 68ms/step - loss: 2.6698 - acc: 0.0871 - val_loss: 2.6634 - val_acc: 0.0854\n",
      "\n",
      "Epoch 00003: loss improved from 2.66970 to 2.66962, saving model to /home/jovyan/program/kaggle/classification/saved_model/classification_cnn_model1\n",
      "Epoch 4/20\n",
      "80/80 [==============================] - 5s 68ms/step - loss: 2.6694 - acc: 0.0874 - val_loss: 2.6633 - val_acc: 0.0854\n",
      "\n",
      "Epoch 00004: loss improved from 2.66962 to 2.66955, saving model to /home/jovyan/program/kaggle/classification/saved_model/classification_cnn_model1\n",
      "Epoch 5/20\n",
      "80/80 [==============================] - 5s 67ms/step - loss: 2.6690 - acc: 0.0879 - val_loss: 2.6632 - val_acc: 0.0854\n",
      "\n",
      "Epoch 00005: loss improved from 2.66955 to 2.66948, saving model to /home/jovyan/program/kaggle/classification/saved_model/classification_cnn_model1\n",
      "Epoch 6/20\n",
      "80/80 [==============================] - 5s 69ms/step - loss: 2.6696 - acc: 0.0874 - val_loss: 2.6632 - val_acc: 0.0854\n",
      "\n",
      "Epoch 00006: loss improved from 2.66948 to 2.66941, saving model to /home/jovyan/program/kaggle/classification/saved_model/classification_cnn_model1\n",
      "Epoch 7/20\n",
      "80/80 [==============================] - 6s 70ms/step - loss: 2.6691 - acc: 0.0882 - val_loss: 2.6631 - val_acc: 0.0854\n",
      "\n",
      "Epoch 00007: loss improved from 2.66941 to 2.66934, saving model to /home/jovyan/program/kaggle/classification/saved_model/classification_cnn_model1\n",
      "Epoch 8/20\n",
      "80/80 [==============================] - 5s 68ms/step - loss: 2.6697 - acc: 0.0876 - val_loss: 2.6630 - val_acc: 0.0854\n",
      "\n",
      "Epoch 00008: loss improved from 2.66934 to 2.66927, saving model to /home/jovyan/program/kaggle/classification/saved_model/classification_cnn_model1\n",
      "Epoch 9/20\n",
      "80/80 [==============================] - 5s 68ms/step - loss: 2.6690 - acc: 0.0876 - val_loss: 2.6629 - val_acc: 0.0854\n",
      "\n",
      "Epoch 00009: loss improved from 2.66927 to 2.66920, saving model to /home/jovyan/program/kaggle/classification/saved_model/classification_cnn_model1\n",
      "Epoch 10/20\n",
      "80/80 [==============================] - 6s 69ms/step - loss: 2.6697 - acc: 0.0874 - val_loss: 2.6629 - val_acc: 0.0854\n",
      "\n",
      "Epoch 00010: loss improved from 2.66920 to 2.66914, saving model to /home/jovyan/program/kaggle/classification/saved_model/classification_cnn_model1\n",
      "Epoch 11/20\n",
      "80/80 [==============================] - 6s 70ms/step - loss: 2.6691 - acc: 0.0876 - val_loss: 2.6628 - val_acc: 0.0854\n",
      "\n",
      "Epoch 00011: loss improved from 2.66914 to 2.66907, saving model to /home/jovyan/program/kaggle/classification/saved_model/classification_cnn_model1\n",
      "Epoch 12/20\n",
      "80/80 [==============================] - 6s 69ms/step - loss: 2.6690 - acc: 0.0876 - val_loss: 2.6627 - val_acc: 0.0854\n",
      "\n",
      "Epoch 00012: loss improved from 2.66907 to 2.66901, saving model to /home/jovyan/program/kaggle/classification/saved_model/classification_cnn_model1\n",
      "Epoch 13/20\n",
      "80/80 [==============================] - 5s 68ms/step - loss: 2.6684 - acc: 0.0876 - val_loss: 2.6627 - val_acc: 0.0854\n",
      "\n",
      "Epoch 00013: loss improved from 2.66901 to 2.66894, saving model to /home/jovyan/program/kaggle/classification/saved_model/classification_cnn_model1\n",
      "Epoch 14/20\n",
      "80/80 [==============================] - 5s 68ms/step - loss: 2.6683 - acc: 0.0874 - val_loss: 2.6626 - val_acc: 0.0854\n",
      "\n",
      "Epoch 00014: loss improved from 2.66894 to 2.66888, saving model to /home/jovyan/program/kaggle/classification/saved_model/classification_cnn_model1\n",
      "Epoch 15/20\n",
      "80/80 [==============================] - 5s 68ms/step - loss: 2.6692 - acc: 0.0874 - val_loss: 2.6625 - val_acc: 0.0854\n",
      "\n",
      "Epoch 00015: loss improved from 2.66888 to 2.66881, saving model to /home/jovyan/program/kaggle/classification/saved_model/classification_cnn_model1\n",
      "Epoch 16/20\n",
      "80/80 [==============================] - 5s 69ms/step - loss: 2.6688 - acc: 0.0871 - val_loss: 2.6625 - val_acc: 0.0854\n",
      "\n",
      "Epoch 00016: loss improved from 2.66881 to 2.66875, saving model to /home/jovyan/program/kaggle/classification/saved_model/classification_cnn_model1\n",
      "Epoch 17/20\n",
      "80/80 [==============================] - 5s 68ms/step - loss: 2.6691 - acc: 0.0871 - val_loss: 2.6624 - val_acc: 0.0854\n",
      "\n",
      "Epoch 00017: loss improved from 2.66875 to 2.66869, saving model to /home/jovyan/program/kaggle/classification/saved_model/classification_cnn_model1\n",
      "Epoch 18/20\n",
      "80/80 [==============================] - 6s 70ms/step - loss: 2.6683 - acc: 0.0874 - val_loss: 2.6623 - val_acc: 0.0854\n",
      "\n",
      "Epoch 00018: loss improved from 2.66869 to 2.66863, saving model to /home/jovyan/program/kaggle/classification/saved_model/classification_cnn_model1\n",
      "Epoch 19/20\n",
      "80/80 [==============================] - 5s 69ms/step - loss: 2.6684 - acc: 0.0876 - val_loss: 2.6622 - val_acc: 0.0854\n",
      "\n",
      "Epoch 00019: loss improved from 2.66863 to 2.66857, saving model to /home/jovyan/program/kaggle/classification/saved_model/classification_cnn_model1\n",
      "Epoch 20/20\n",
      "80/80 [==============================] - 5s 69ms/step - loss: 2.6689 - acc: 0.0871 - val_loss: 2.6622 - val_acc: 0.0854\n",
      "\n",
      "Epoch 00020: loss improved from 2.66857 to 2.66851, saving model to /home/jovyan/program/kaggle/classification/saved_model/classification_cnn_model1\n",
      "Loading trained model\n"
     ]
    }
   ],
   "source": [
    "batch_size = 30\n",
    "epochs = 20\n",
    "#workers = 用4個GPU\n",
    "#verbose是否再進度調顯示\n",
    "\n",
    "model_history = model.fit_generator(datagen.flow(x_train, y_train,\n",
    "                                 batch_size=batch_size),\n",
    "                    epochs=epochs,\n",
    "                    workers=4,\n",
    "                    validation_data=(x_valid, y_valid),\n",
    "                    callbacks=[checkpoint,earlystop])\n",
    "'''\n",
    "model.fit(x_train, y_train,\n",
    "          batch_size=batch_size,\n",
    "          epochs=epochs,\n",
    "          verbose=1,\n",
    "          validation_data=(x_valid, y_valid))\n",
    "'''\n",
    "print(\"Loading trained model\")\n",
    "model = load_model(model_path)"
   ]
  },
  {
   "cell_type": "code",
   "execution_count": 25,
   "metadata": {},
   "outputs": [
    {
     "data": {
      "image/png": "[encoded data removed]",
      "text/plain": [
       "<Figure size 432x288 with 1 Axes>"
      ]
     },
     "metadata": {
      "needs_background": "light"
     },
     "output_type": "display_data"
    }
   ],
   "source": [
    "training_loss = model_history.history['loss']\n",
    "val_loss = model_history.history['val_loss']\n",
    "\n",
    "plt.plot(training_loss, label=\"training_loss\")\n",
    "plt.plot(val_loss, label=\"validation_loss\")\n",
    "plt.xlabel(\"Epochs\")\n",
    "plt.ylabel(\"Loss\")\n",
    "plt.title(\"Learning Curve\")\n",
    "plt.legend(loc='best')\n",
    "plt.show()"
   ]
  },
  {
   "cell_type": "code",
   "execution_count": 26,
   "metadata": {},
   "outputs": [
    {
     "data": {
      "image/png": "[encoded data removed]",
      "text/plain": [
       "<Figure size 432x288 with 1 Axes>"
      ]
     },
     "metadata": {
      "needs_background": "light"
     },
     "output_type": "display_data"
    }
   ],
   "source": [
    "training_acc = model_history.history['acc']\n",
    "val_acc = model_history.history['val_acc']\n",
    "\n",
    "plt.plot(training_acc, label=\"training_accuracy\")\n",
    "plt.plot(val_acc, label=\"validation_accuracy\")\n",
    "plt.xlabel(\"Epochs\")\n",
    "plt.ylabel(\"accuracy\")\n",
    "plt.title(\"Learning Curve\")\n",
    "plt.legend(loc='best')\n",
    "plt.show()"
   ]
  },
  {
   "cell_type": "code",
   "execution_count": 16,
   "metadata": {},
   "outputs": [
    {
     "name": "stdout",
     "output_type": "stream",
     "text": [
      "597/597 [==============================] - 1s 1ms/step\n",
      "Test loss: 2.663619295037172\n",
      "Test accuracy: 0.0854271358031923\n"
     ]
    }
   ],
   "source": [
    "scores = model.evaluate(x_valid, y_valid, verbose=1)\n",
    "print('Test loss:', scores[0])\n",
    "print('Test accuracy:', scores[1])"
   ]
  },
  {
   "cell_type": "code",
   "execution_count": 19,
   "metadata": {},
   "outputs": [
    {
     "data": {
      "text/plain": [
       "array([[0.03487759, 0.05905003, 0.08152238, ..., 0.0429002 , 0.07941833,\n",
       "        0.05363885],\n",
       "       [0.03487759, 0.05905003, 0.08152238, ..., 0.0429002 , 0.07941833,\n",
       "        0.05363885],\n",
       "       [0.03487759, 0.05905003, 0.08152238, ..., 0.0429002 , 0.07941833,\n",
       "        0.05363885],\n",
       "       ...,\n",
       "       [0.03487759, 0.05905003, 0.08152238, ..., 0.0429002 , 0.07941833,\n",
       "        0.05363885],\n",
       "       [0.03487759, 0.05905003, 0.08152238, ..., 0.0429002 , 0.07941833,\n",
       "        0.05363885],\n",
       "       [0.03487759, 0.05905003, 0.08152238, ..., 0.0429002 , 0.07941833,\n",
       "        0.05363885]], dtype=float32)"
      ]
     },
     "execution_count": 19,
     "metadata": {},
     "output_type": "execute_result"
    }
   ],
   "source": [
    "test_pred =model.predict(x_valid)\n",
    "test_pred"
   ]
  },
  {
   "cell_type": "code",
   "execution_count": null,
   "metadata": {},
   "outputs": [],
   "source": []
  }
 ],
 "metadata": {
  "kernelspec": {
   "display_name": "Python 3",
   "language": "python",
   "name": "python3"
  },
  "language_info": {
   "codemirror_mode": {
    "name": "ipython",
    "version": 3
   },
   "file_extension": ".py",
   "mimetype": "text/x-python",
   "name": "python",
   "nbconvert_exporter": "python",
   "pygments_lexer": "ipython3",
   "version": "3.6.6"
  }
 },
 "nbformat": 4,
 "nbformat_minor": 2
}
