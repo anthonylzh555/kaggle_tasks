{
 "cells": [
  {
   "cell_type": "markdown",
   "metadata": {},
   "source": [
    "# Step 1: Importing Packages "
   ]
  },
  {
   "cell_type": "code",
   "execution_count": 39,
   "metadata": {},
   "outputs": [],
   "source": [
    "import numpy as np\n",
    "import pandas as pd\n",
    "import matplotlib.pyplot as plt\n",
    "%matplotlib inline"
   ]
  },
  {
   "cell_type": "markdown",
   "metadata": {},
   "source": [
    "----\n",
    "我們要使用一個package之前都需要先將package import進來<br>\n",
    "import 的方法很簡單，就直接打import就可以了<br>\n",
    "然後後面的 as 其實可有可無<br>\n",
    "只是因為使用package的時候需要將package的名字打在前面, 像是<br>\n",
    "```python\n",
    "numpy.array()\n",
    "```\n",
    "而 as 的用途就是可以少打幾個字<br>\n",
    "如果只是打個幾行code可能感覺還好<br>\n",
    "但是當程式碼數量增加的時候 as 可以幫你省下很多時間<br>\n",
    "\n",
    "這三個是我們最常使用的packages<br>\n",
    "numpy 對於數學運算的支援非常完整<br>\n",
    "pandas 對於資料整理上面非常完整<br>\n",
    "matplotlib 是專門拿來做圖用的package<br>\n",
    "其他常用的package，像是tensorflow scikit-learn <br>\n",
    "這些package對於機器學習與深度學習支援很好<br>\n",
    "之後我們也都會看情況而決定使用不同的package<br>\n",
    "\n",
    "順帶一提 這個是jupyter一些好用的指令<br>\n",
    "https://www.cheatography.com/weidadeyue/cheat-sheets/jupyter-notebook/pdf_bw/\n",
    "\n",
    "---"
   ]
  },
  {
   "cell_type": "markdown",
   "metadata": {},
   "source": [
    "# Step 2: Reading Data"
   ]
  },
  {
   "cell_type": "code",
   "execution_count": 40,
   "metadata": {},
   "outputs": [],
   "source": [
    "training_set = pd.read_csv('Data/train.csv')\n",
    "testing_set = pd.read_csv('Data/test.csv')"
   ]
  },
  {
   "cell_type": "markdown",
   "metadata": {},
   "source": [
    "----\n",
    "這裡參考的資料是用kaggle的boston housing<br>\n",
    "https://www.kaggle.com/c/boston-housing\n",
    "\n",
    "通常用read_csv就可以正常讀出資料<br>\n",
    "只是有時候資料分割的方式不同可能會出現一些問題<br>\n",
    "再遇到這種情況的時候可以把csv檔案打開<br>\n",
    "如果發現檔案不是用逗號 , 做分割的時候<br>\n",
    "那就要自己改sep<br>\n",
    "像是如果發現資料是用空白做分割的時候<br>\n",
    "就要改成<br>\n",
    "```python\n",
    "training_set = pd.read_csv('Data/train.csv', sep=' ')\n",
    "```\n",
    "順帶一提<br>\n",
    "一般再用這個dataset的時候通常的例子都會直接使用scikit-learn load進來<br>\n",
    "這裡用read_csv的方式是因為大部分的情況下我們無法從網路上直接load資料進來<br>\n",
    "所以這邊才會使用read_csv的方式來當作例子\n",
    "\n",
    "---"
   ]
  },
  {
   "cell_type": "markdown",
   "metadata": {},
   "source": [
    "# Step 3: Organizing Data"
   ]
  },
  {
   "cell_type": "code",
   "execution_count": 41,
   "metadata": {},
   "outputs": [
    {
     "data": {
      "text/plain": [
       "(333, 15)"
      ]
     },
     "execution_count": 41,
     "metadata": {},
     "output_type": "execute_result"
    }
   ],
   "source": [
    "training_set.shape"
   ]
  },
  {
   "cell_type": "code",
   "execution_count": 42,
   "metadata": {},
   "outputs": [
    {
     "data": {
      "text/plain": [
       "(173, 14)"
      ]
     },
     "execution_count": 42,
     "metadata": {},
     "output_type": "execute_result"
    }
   ],
   "source": [
    "testing_set.shape"
   ]
  },
  {
   "cell_type": "code",
   "execution_count": 43,
   "metadata": {},
   "outputs": [
    {
     "data": {
      "text/html": [
       "<div>\n",
       "<style scoped>\n",
       "    .dataframe tbody tr th:only-of-type {\n",
       "        vertical-align: middle;\n",
       "    }\n",
       "\n",
       "    .dataframe tbody tr th {\n",
       "        vertical-align: top;\n",
       "    }\n",
       "\n",
       "    .dataframe thead th {\n",
       "        text-align: right;\n",
       "    }\n",
       "</style>\n",
       "<table border=\"1\" class=\"dataframe\">\n",
       "  <thead>\n",
       "    <tr style=\"text-align: right;\">\n",
       "      <th></th>\n",
       "      <th>ID</th>\n",
       "      <th>crim</th>\n",
       "      <th>zn</th>\n",
       "      <th>indus</th>\n",
       "      <th>chas</th>\n",
       "      <th>nox</th>\n",
       "      <th>rm</th>\n",
       "      <th>age</th>\n",
       "      <th>dis</th>\n",
       "      <th>rad</th>\n",
       "      <th>tax</th>\n",
       "      <th>ptratio</th>\n",
       "      <th>black</th>\n",
       "      <th>lstat</th>\n",
       "      <th>medv</th>\n",
       "    </tr>\n",
       "  </thead>\n",
       "  <tbody>\n",
       "    <tr>\n",
       "      <th>0</th>\n",
       "      <td>1</td>\n",
       "      <td>0.00632</td>\n",
       "      <td>18.0</td>\n",
       "      <td>2.31</td>\n",
       "      <td>0</td>\n",
       "      <td>0.538</td>\n",
       "      <td>6.575</td>\n",
       "      <td>65.2</td>\n",
       "      <td>4.0900</td>\n",
       "      <td>1</td>\n",
       "      <td>296</td>\n",
       "      <td>15.3</td>\n",
       "      <td>396.90</td>\n",
       "      <td>4.98</td>\n",
       "      <td>24.0</td>\n",
       "    </tr>\n",
       "    <tr>\n",
       "      <th>1</th>\n",
       "      <td>2</td>\n",
       "      <td>0.02731</td>\n",
       "      <td>0.0</td>\n",
       "      <td>7.07</td>\n",
       "      <td>0</td>\n",
       "      <td>0.469</td>\n",
       "      <td>6.421</td>\n",
       "      <td>78.9</td>\n",
       "      <td>4.9671</td>\n",
       "      <td>2</td>\n",
       "      <td>242</td>\n",
       "      <td>17.8</td>\n",
       "      <td>396.90</td>\n",
       "      <td>9.14</td>\n",
       "      <td>21.6</td>\n",
       "    </tr>\n",
       "    <tr>\n",
       "      <th>2</th>\n",
       "      <td>4</td>\n",
       "      <td>0.03237</td>\n",
       "      <td>0.0</td>\n",
       "      <td>2.18</td>\n",
       "      <td>0</td>\n",
       "      <td>0.458</td>\n",
       "      <td>6.998</td>\n",
       "      <td>45.8</td>\n",
       "      <td>6.0622</td>\n",
       "      <td>3</td>\n",
       "      <td>222</td>\n",
       "      <td>18.7</td>\n",
       "      <td>394.63</td>\n",
       "      <td>2.94</td>\n",
       "      <td>33.4</td>\n",
       "    </tr>\n",
       "    <tr>\n",
       "      <th>3</th>\n",
       "      <td>5</td>\n",
       "      <td>0.06905</td>\n",
       "      <td>0.0</td>\n",
       "      <td>2.18</td>\n",
       "      <td>0</td>\n",
       "      <td>0.458</td>\n",
       "      <td>7.147</td>\n",
       "      <td>54.2</td>\n",
       "      <td>6.0622</td>\n",
       "      <td>3</td>\n",
       "      <td>222</td>\n",
       "      <td>18.7</td>\n",
       "      <td>396.90</td>\n",
       "      <td>5.33</td>\n",
       "      <td>36.2</td>\n",
       "    </tr>\n",
       "    <tr>\n",
       "      <th>4</th>\n",
       "      <td>7</td>\n",
       "      <td>0.08829</td>\n",
       "      <td>12.5</td>\n",
       "      <td>7.87</td>\n",
       "      <td>0</td>\n",
       "      <td>0.524</td>\n",
       "      <td>6.012</td>\n",
       "      <td>66.6</td>\n",
       "      <td>5.5605</td>\n",
       "      <td>5</td>\n",
       "      <td>311</td>\n",
       "      <td>15.2</td>\n",
       "      <td>395.60</td>\n",
       "      <td>12.43</td>\n",
       "      <td>22.9</td>\n",
       "    </tr>\n",
       "  </tbody>\n",
       "</table>\n",
       "</div>"
      ],
      "text/plain": [
       "   ID     crim    zn  indus  chas    nox     rm   age     dis  rad  tax  \\\n",
       "0   1  0.00632  18.0   2.31     0  0.538  6.575  65.2  4.0900    1  296   \n",
       "1   2  0.02731   0.0   7.07     0  0.469  6.421  78.9  4.9671    2  242   \n",
       "2   4  0.03237   0.0   2.18     0  0.458  6.998  45.8  6.0622    3  222   \n",
       "3   5  0.06905   0.0   2.18     0  0.458  7.147  54.2  6.0622    3  222   \n",
       "4   7  0.08829  12.5   7.87     0  0.524  6.012  66.6  5.5605    5  311   \n",
       "\n",
       "   ptratio   black  lstat  medv  \n",
       "0     15.3  396.90   4.98  24.0  \n",
       "1     17.8  396.90   9.14  21.6  \n",
       "2     18.7  394.63   2.94  33.4  \n",
       "3     18.7  396.90   5.33  36.2  \n",
       "4     15.2  395.60  12.43  22.9  "
      ]
     },
     "execution_count": 43,
     "metadata": {},
     "output_type": "execute_result"
    }
   ],
   "source": [
    "training_set.head()\n",
    "#head()初始值顯示5筆,顯示更多則更改括號內數值"
   ]
  },
  {
   "cell_type": "code",
   "execution_count": 44,
   "metadata": {},
   "outputs": [
    {
     "data": {
      "text/html": [
       "<div>\n",
       "<style scoped>\n",
       "    .dataframe tbody tr th:only-of-type {\n",
       "        vertical-align: middle;\n",
       "    }\n",
       "\n",
       "    .dataframe tbody tr th {\n",
       "        vertical-align: top;\n",
       "    }\n",
       "\n",
       "    .dataframe thead th {\n",
       "        text-align: right;\n",
       "    }\n",
       "</style>\n",
       "<table border=\"1\" class=\"dataframe\">\n",
       "  <thead>\n",
       "    <tr style=\"text-align: right;\">\n",
       "      <th></th>\n",
       "      <th>ID</th>\n",
       "      <th>crim</th>\n",
       "      <th>zn</th>\n",
       "      <th>indus</th>\n",
       "      <th>chas</th>\n",
       "      <th>nox</th>\n",
       "      <th>rm</th>\n",
       "      <th>age</th>\n",
       "      <th>dis</th>\n",
       "      <th>rad</th>\n",
       "      <th>tax</th>\n",
       "      <th>ptratio</th>\n",
       "      <th>black</th>\n",
       "      <th>lstat</th>\n",
       "    </tr>\n",
       "  </thead>\n",
       "  <tbody>\n",
       "    <tr>\n",
       "      <th>0</th>\n",
       "      <td>3</td>\n",
       "      <td>0.02729</td>\n",
       "      <td>0.0</td>\n",
       "      <td>7.07</td>\n",
       "      <td>0</td>\n",
       "      <td>0.469</td>\n",
       "      <td>7.185</td>\n",
       "      <td>61.1</td>\n",
       "      <td>4.9671</td>\n",
       "      <td>2</td>\n",
       "      <td>242</td>\n",
       "      <td>17.8</td>\n",
       "      <td>392.83</td>\n",
       "      <td>4.03</td>\n",
       "    </tr>\n",
       "    <tr>\n",
       "      <th>1</th>\n",
       "      <td>6</td>\n",
       "      <td>0.02985</td>\n",
       "      <td>0.0</td>\n",
       "      <td>2.18</td>\n",
       "      <td>0</td>\n",
       "      <td>0.458</td>\n",
       "      <td>6.430</td>\n",
       "      <td>58.7</td>\n",
       "      <td>6.0622</td>\n",
       "      <td>3</td>\n",
       "      <td>222</td>\n",
       "      <td>18.7</td>\n",
       "      <td>394.12</td>\n",
       "      <td>5.21</td>\n",
       "    </tr>\n",
       "    <tr>\n",
       "      <th>2</th>\n",
       "      <td>8</td>\n",
       "      <td>0.14455</td>\n",
       "      <td>12.5</td>\n",
       "      <td>7.87</td>\n",
       "      <td>0</td>\n",
       "      <td>0.524</td>\n",
       "      <td>6.172</td>\n",
       "      <td>96.1</td>\n",
       "      <td>5.9505</td>\n",
       "      <td>5</td>\n",
       "      <td>311</td>\n",
       "      <td>15.2</td>\n",
       "      <td>396.90</td>\n",
       "      <td>19.15</td>\n",
       "    </tr>\n",
       "    <tr>\n",
       "      <th>3</th>\n",
       "      <td>9</td>\n",
       "      <td>0.21124</td>\n",
       "      <td>12.5</td>\n",
       "      <td>7.87</td>\n",
       "      <td>0</td>\n",
       "      <td>0.524</td>\n",
       "      <td>5.631</td>\n",
       "      <td>100.0</td>\n",
       "      <td>6.0821</td>\n",
       "      <td>5</td>\n",
       "      <td>311</td>\n",
       "      <td>15.2</td>\n",
       "      <td>386.63</td>\n",
       "      <td>29.93</td>\n",
       "    </tr>\n",
       "    <tr>\n",
       "      <th>4</th>\n",
       "      <td>10</td>\n",
       "      <td>0.17004</td>\n",
       "      <td>12.5</td>\n",
       "      <td>7.87</td>\n",
       "      <td>0</td>\n",
       "      <td>0.524</td>\n",
       "      <td>6.004</td>\n",
       "      <td>85.9</td>\n",
       "      <td>6.5921</td>\n",
       "      <td>5</td>\n",
       "      <td>311</td>\n",
       "      <td>15.2</td>\n",
       "      <td>386.71</td>\n",
       "      <td>17.10</td>\n",
       "    </tr>\n",
       "  </tbody>\n",
       "</table>\n",
       "</div>"
      ],
      "text/plain": [
       "   ID     crim    zn  indus  chas    nox     rm    age     dis  rad  tax  \\\n",
       "0   3  0.02729   0.0   7.07     0  0.469  7.185   61.1  4.9671    2  242   \n",
       "1   6  0.02985   0.0   2.18     0  0.458  6.430   58.7  6.0622    3  222   \n",
       "2   8  0.14455  12.5   7.87     0  0.524  6.172   96.1  5.9505    5  311   \n",
       "3   9  0.21124  12.5   7.87     0  0.524  5.631  100.0  6.0821    5  311   \n",
       "4  10  0.17004  12.5   7.87     0  0.524  6.004   85.9  6.5921    5  311   \n",
       "\n",
       "   ptratio   black  lstat  \n",
       "0     17.8  392.83   4.03  \n",
       "1     18.7  394.12   5.21  \n",
       "2     15.2  396.90  19.15  \n",
       "3     15.2  386.63  29.93  \n",
       "4     15.2  386.71  17.10  "
      ]
     },
     "execution_count": 44,
     "metadata": {},
     "output_type": "execute_result"
    }
   ],
   "source": [
    "testing_set.head()"
   ]
  },
  {
   "cell_type": "markdown",
   "metadata": {},
   "source": [
    "---\n",
    "從資料的簡介和這邊的觀察我們可以得知<br>\n",
    "medv 是我們的target value (房價)\n",
    "\n",
    "---"
   ]
  },
  {
   "cell_type": "code",
   "execution_count": 45,
   "metadata": {},
   "outputs": [
    {
     "data": {
      "text/plain": [
       "ID         0\n",
       "crim       0\n",
       "zn         0\n",
       "indus      0\n",
       "chas       0\n",
       "nox        0\n",
       "rm         0\n",
       "age        0\n",
       "dis        0\n",
       "rad        0\n",
       "tax        0\n",
       "ptratio    0\n",
       "black      0\n",
       "lstat      0\n",
       "medv       0\n",
       "dtype: int64"
      ]
     },
     "execution_count": 45,
     "metadata": {},
     "output_type": "execute_result"
    }
   ],
   "source": [
    "training_set.isna().sum()\n",
    "#缺失值觀察"
   ]
  },
  {
   "cell_type": "markdown",
   "metadata": {},
   "source": [
    "-----------------------------------------------------------------------------\n",
    "在這邊我們完全沒有缺失值 (有沒有發現我們使用了統計課那邊教的東西!!!) <br>\n",
    "所以在這個例子底下我們不用作處理<br>\n",
    "但是在有出現缺失值的情況下<br>\n",
    "這邊假設nox 裡面有缺失值好了<br>\n",
    "我們會做<br>\n",
    "```python\n",
    "training_set.nox[training_set.nox.isna()]\n",
    "```\n",
    "這樣就能找出哪一行有缺失值<br>\n",
    "然後在資料量足夠的情況下我們可以直接drop掉有缺失值的資料 (因為補值會比較麻煩)<br>\n",
    "然後假設我們在index=3的地方出現了缺失值<br>\n",
    "我們會做\n",
    "```python \n",
    "training_set.drop(3, inplace=True)\n",
    "training_set.reset_index(drop=True)\n",
    "```\n",
    "----\n"
   ]
  },
  {
   "cell_type": "code",
   "execution_count": 46,
   "metadata": {},
   "outputs": [],
   "source": [
    "target = training_set.medv\n",
    "training_set.drop('medv', axis=1, inplace=True)\n",
    "#刪掉缺失值，補缺失值\n",
    "#先考慮補值，再考慮刪除缺失值"
   ]
  },
  {
   "cell_type": "code",
   "execution_count": 47,
   "metadata": {},
   "outputs": [
    {
     "name": "stdout",
     "output_type": "stream",
     "text": [
      "(333, 14)\n",
      "(173, 14)\n"
     ]
    }
   ],
   "source": [
    "print(training_set.shape)\n",
    "print(testing_set.shape)"
   ]
  },
  {
   "cell_type": "markdown",
   "metadata": {},
   "source": [
    "# Step 4: EDA"
   ]
  },
  {
   "cell_type": "markdown",
   "metadata": {},
   "source": [
    "---\n",
    "做EDA的目的就是先理解資料<br>\n",
    "這樣不只對訓練的時候有幫助<br>\n",
    "對於之後的結果也能更詳細的分析<br>\n",
    "這邊提供幾個典型做EDA的方法\n",
    "\n",
    "---"
   ]
  },
  {
   "cell_type": "code",
   "execution_count": 18,
   "metadata": {},
   "outputs": [
    {
     "data": {
      "text/plain": [
       "Text(0.5,0,'PRICE')"
      ]
     },
     "execution_count": 18,
     "metadata": {},
     "output_type": "execute_result"
    },
    {
     "data": {
      "image/png": "[encoded data removed]",
      "text/plain": [
       "<Figure size 432x288 with 1 Axes>"
      ]
     },
     "metadata": {
      "needs_background": "light"
     },
     "output_type": "display_data"
    }
   ],
   "source": [
    "plt.scatter(target, training_set['nox'], alpha=0.7)\n",
    "plt.ylabel('NOX', color='r')\n",
    "plt.xlabel('PRICE', color='r')"
   ]
  },
  {
   "cell_type": "markdown",
   "metadata": {},
   "source": [
    "---\n",
    "從這張圖我們看不出來nox 跟我們的target 房價有什麼直接的關係<br>\n",
    "這個就代表nox 跟房價的correlation可能沒有很強\n",
    "\n",
    "---"
   ]
  },
  {
   "cell_type": "code",
   "execution_count": 19,
   "metadata": {},
   "outputs": [
    {
     "data": {
      "text/plain": [
       "(array([ 6., 12., 17., 23., 19., 23., 19., 15., 20., 10., 12., 10.,  6.,\n",
       "        12.,  8., 12.,  5., 10.,  2.,  4.,  7.,  7., 12.,  5.,  3.,  4.,\n",
       "         5.,  9.,  4.,  4.,  3.,  1.,  7.,  0.,  4.,  2.,  1.,  2.,  1.,\n",
       "         2.,  1.,  1.,  2.,  0.,  0.,  0.,  0.,  0.,  0.,  1.]),\n",
       " array([ 1.1296  ,  1.321214,  1.512828,  1.704442,  1.896056,  2.08767 ,\n",
       "         2.279284,  2.470898,  2.662512,  2.854126,  3.04574 ,  3.237354,\n",
       "         3.428968,  3.620582,  3.812196,  4.00381 ,  4.195424,  4.387038,\n",
       "         4.578652,  4.770266,  4.96188 ,  5.153494,  5.345108,  5.536722,\n",
       "         5.728336,  5.91995 ,  6.111564,  6.303178,  6.494792,  6.686406,\n",
       "         6.87802 ,  7.069634,  7.261248,  7.452862,  7.644476,  7.83609 ,\n",
       "         8.027704,  8.219318,  8.410932,  8.602546,  8.79416 ,  8.985774,\n",
       "         9.177388,  9.369002,  9.560616,  9.75223 ,  9.943844, 10.135458,\n",
       "        10.327072, 10.518686, 10.7103  ]),\n",
       " <a list of 50 Patch objects>)"
      ]
     },
     "execution_count": 19,
     "metadata": {},
     "output_type": "execute_result"
    },
    {
     "data": {
      "image/png": "[encoded data removed]",
      "text/plain": [
       "<Figure size 432x288 with 1 Axes>"
      ]
     },
     "metadata": {
      "needs_background": "light"
     },
     "output_type": "display_data"
    }
   ],
   "source": [
    "plt.hist(training_set.dis, bins=50)\n",
    "#.hist做出圖形，bins的數量表示bar的數量"
   ]
  },
  {
   "cell_type": "markdown",
   "metadata": {},
   "source": [
    "---\n",
    "dis 在資料簡介上面的解釋是 weighted mean of distances to five Boston employment centres. <br>\n",
    "所以在這邊我們可以得知我們資料裡大部分的房子都比較接近市中心\n",
    "\n",
    "---"
   ]
  },
  {
   "cell_type": "code",
   "execution_count": 20,
   "metadata": {},
   "outputs": [
    {
     "data": {
      "text/plain": [
       "rad\n",
       "1     14\n",
       "2     14\n",
       "3     27\n",
       "4     70\n",
       "5     76\n",
       "6     13\n",
       "7     13\n",
       "8     18\n",
       "24    88\n",
       "dtype: int64"
      ]
     },
     "execution_count": 20,
     "metadata": {},
     "output_type": "execute_result"
    }
   ],
   "source": [
    "training_set.groupby(['rad']).size()\n",
    "#以rad排列，.size()顯示大小"
   ]
  },
  {
   "cell_type": "markdown",
   "metadata": {},
   "source": [
    "---\n",
    "groupby 是一個整理資料很好用的function<br>\n",
    "它有非常多種用法<br>\n",
    "上面這個用法是用來找每一個unique值總共有多少個<br>\n",
    "如果單單只是要知道有幾種unique值得話可以用<br>\n",
    "```python\n",
    "training_set.rad.unique()\n",
    "```\n",
    "---"
   ]
  },
  {
   "cell_type": "code",
   "execution_count": 21,
   "metadata": {},
   "outputs": [
    {
     "data": {
      "text/plain": [
       "rad\n",
       "1     284.500000\n",
       "2     246.142857\n",
       "3     240.037037\n",
       "4     342.214286\n",
       "5     335.026316\n",
       "6     381.384615\n",
       "7     304.846154\n",
       "8     301.888889\n",
       "24    666.000000\n",
       "Name: tax, dtype: float64"
      ]
     },
     "execution_count": 21,
     "metadata": {},
     "output_type": "execute_result"
    }
   ],
   "source": [
    "training_set.groupby(['rad'])['tax'].mean()\n",
    "#以rad排列，計算tax的mean"
   ]
  },
  {
   "cell_type": "markdown",
   "metadata": {},
   "source": [
    "---\n",
    "這邊示範了另一個aggfunc的用法<br>\n",
    "以下列出全部的agg func<br>\n",
    "![title](Data/AggTable.PNG)\n",
    "\n",
    "---"
   ]
  },
  {
   "cell_type": "code",
   "execution_count": 22,
   "metadata": {},
   "outputs": [
    {
     "data": {
      "text/plain": [
       "chas  rad\n",
       "0     1      291.153846\n",
       "      2      246.142857\n",
       "      3      240.692308\n",
       "      4      345.477612\n",
       "      5      333.685714\n",
       "      6      381.384615\n",
       "      7      304.846154\n",
       "      8      300.428571\n",
       "      24     666.000000\n",
       "1     1      198.000000\n",
       "      3      223.000000\n",
       "      4      269.333333\n",
       "      5      350.666667\n",
       "      8      307.000000\n",
       "      24     666.000000\n",
       "Name: tax, dtype: float64"
      ]
     },
     "execution_count": 22,
     "metadata": {},
     "output_type": "execute_result"
    }
   ],
   "source": [
    "training_set.groupby(['chas', 'rad'])['tax'].mean()\n",
    "#groupby()內為index，[]後面可以掛groupby的函式"
   ]
  },
  {
   "cell_type": "markdown",
   "metadata": {},
   "source": [
    "---\n",
    "你也可以使用多種features做為Index\n",
    "\n",
    "---"
   ]
  },
  {
   "cell_type": "code",
   "execution_count": 23,
   "metadata": {},
   "outputs": [
    {
     "data": {
      "text/html": [
       "<div>\n",
       "<style scoped>\n",
       "    .dataframe tbody tr th:only-of-type {\n",
       "        vertical-align: middle;\n",
       "    }\n",
       "\n",
       "    .dataframe tbody tr th {\n",
       "        vertical-align: top;\n",
       "    }\n",
       "\n",
       "    .dataframe thead tr th {\n",
       "        text-align: left;\n",
       "    }\n",
       "\n",
       "    .dataframe thead tr:last-of-type th {\n",
       "        text-align: right;\n",
       "    }\n",
       "</style>\n",
       "<table border=\"1\" class=\"dataframe\">\n",
       "  <thead>\n",
       "    <tr>\n",
       "      <th></th>\n",
       "      <th></th>\n",
       "      <th colspan=\"3\" halign=\"left\">age</th>\n",
       "      <th>tax</th>\n",
       "    </tr>\n",
       "    <tr>\n",
       "      <th></th>\n",
       "      <th></th>\n",
       "      <th>max</th>\n",
       "      <th>median</th>\n",
       "      <th>min</th>\n",
       "      <th>mean</th>\n",
       "    </tr>\n",
       "    <tr>\n",
       "      <th>chas</th>\n",
       "      <th>rad</th>\n",
       "      <th></th>\n",
       "      <th></th>\n",
       "      <th></th>\n",
       "      <th></th>\n",
       "    </tr>\n",
       "  </thead>\n",
       "  <tbody>\n",
       "    <tr>\n",
       "      <th rowspan=\"9\" valign=\"top\">0</th>\n",
       "      <th>1</th>\n",
       "      <td>91.0</td>\n",
       "      <td>49.30</td>\n",
       "      <td>9.9</td>\n",
       "      <td>291.153846</td>\n",
       "    </tr>\n",
       "    <tr>\n",
       "      <th>2</th>\n",
       "      <td>97.0</td>\n",
       "      <td>74.30</td>\n",
       "      <td>35.7</td>\n",
       "      <td>246.142857</td>\n",
       "    </tr>\n",
       "    <tr>\n",
       "      <th>3</th>\n",
       "      <td>95.6</td>\n",
       "      <td>50.80</td>\n",
       "      <td>6.5</td>\n",
       "      <td>240.692308</td>\n",
       "    </tr>\n",
       "    <tr>\n",
       "      <th>4</th>\n",
       "      <td>100.0</td>\n",
       "      <td>61.80</td>\n",
       "      <td>6.2</td>\n",
       "      <td>345.477612</td>\n",
       "    </tr>\n",
       "    <tr>\n",
       "      <th>5</th>\n",
       "      <td>100.0</td>\n",
       "      <td>74.45</td>\n",
       "      <td>6.0</td>\n",
       "      <td>333.685714</td>\n",
       "    </tr>\n",
       "    <tr>\n",
       "      <th>6</th>\n",
       "      <td>84.2</td>\n",
       "      <td>70.60</td>\n",
       "      <td>7.8</td>\n",
       "      <td>381.384615</td>\n",
       "    </tr>\n",
       "    <tr>\n",
       "      <th>7</th>\n",
       "      <td>76.5</td>\n",
       "      <td>34.90</td>\n",
       "      <td>8.4</td>\n",
       "      <td>304.846154</td>\n",
       "    </tr>\n",
       "    <tr>\n",
       "      <th>8</th>\n",
       "      <td>93.4</td>\n",
       "      <td>71.85</td>\n",
       "      <td>21.4</td>\n",
       "      <td>300.428571</td>\n",
       "    </tr>\n",
       "    <tr>\n",
       "      <th>24</th>\n",
       "      <td>100.0</td>\n",
       "      <td>94.30</td>\n",
       "      <td>40.3</td>\n",
       "      <td>666.000000</td>\n",
       "    </tr>\n",
       "    <tr>\n",
       "      <th rowspan=\"6\" valign=\"top\">1</th>\n",
       "      <th>1</th>\n",
       "      <td>24.8</td>\n",
       "      <td>24.80</td>\n",
       "      <td>24.8</td>\n",
       "      <td>198.000000</td>\n",
       "    </tr>\n",
       "    <tr>\n",
       "      <th>3</th>\n",
       "      <td>51.8</td>\n",
       "      <td>51.80</td>\n",
       "      <td>51.8</td>\n",
       "      <td>223.000000</td>\n",
       "    </tr>\n",
       "    <tr>\n",
       "      <th>4</th>\n",
       "      <td>88.6</td>\n",
       "      <td>59.10</td>\n",
       "      <td>32.9</td>\n",
       "      <td>269.333333</td>\n",
       "    </tr>\n",
       "    <tr>\n",
       "      <th>5</th>\n",
       "      <td>100.0</td>\n",
       "      <td>93.25</td>\n",
       "      <td>49.7</td>\n",
       "      <td>350.666667</td>\n",
       "    </tr>\n",
       "    <tr>\n",
       "      <th>8</th>\n",
       "      <td>91.3</td>\n",
       "      <td>77.10</td>\n",
       "      <td>66.5</td>\n",
       "      <td>307.000000</td>\n",
       "    </tr>\n",
       "    <tr>\n",
       "      <th>24</th>\n",
       "      <td>97.5</td>\n",
       "      <td>91.00</td>\n",
       "      <td>83.4</td>\n",
       "      <td>666.000000</td>\n",
       "    </tr>\n",
       "  </tbody>\n",
       "</table>\n",
       "</div>"
      ],
      "text/plain": [
       "            age                      tax\n",
       "            max median   min        mean\n",
       "chas rad                                \n",
       "0    1     91.0  49.30   9.9  291.153846\n",
       "     2     97.0  74.30  35.7  246.142857\n",
       "     3     95.6  50.80   6.5  240.692308\n",
       "     4    100.0  61.80   6.2  345.477612\n",
       "     5    100.0  74.45   6.0  333.685714\n",
       "     6     84.2  70.60   7.8  381.384615\n",
       "     7     76.5  34.90   8.4  304.846154\n",
       "     8     93.4  71.85  21.4  300.428571\n",
       "     24   100.0  94.30  40.3  666.000000\n",
       "1    1     24.8  24.80  24.8  198.000000\n",
       "     3     51.8  51.80  51.8  223.000000\n",
       "     4     88.6  59.10  32.9  269.333333\n",
       "     5    100.0  93.25  49.7  350.666667\n",
       "     8     91.3  77.10  66.5  307.000000\n",
       "     24    97.5  91.00  83.4  666.000000"
      ]
     },
     "execution_count": 23,
     "metadata": {},
     "output_type": "execute_result"
    }
   ],
   "source": [
    "pd.pivot_table(training_set, index=['chas', 'rad'], values=['tax', 'age'], aggfunc=({'tax':np.mean, 'age': [min, max, np.median]}))\n",
    "#建立TABLE"
   ]
  },
  {
   "cell_type": "markdown",
   "metadata": {},
   "source": [
    "---\n",
    "pivot_table可以做到類似的事情<br>\n",
    "但它也有它自己的用法<br>\n",
    "想要看更多種用法可以參考pandas的documentation<br>\n",
    "https://pandas.pydata.org/pandas-docs/stable/reshaping.html<br>\n",
    "這裡有講解各種manipulate data的用法\n",
    "\n",
    "---"
   ]
  },
  {
   "cell_type": "code",
   "execution_count": 24,
   "metadata": {},
   "outputs": [],
   "source": [
    "from sklearn.preprocessing import OneHotEncoder\n",
    "enc = OneHotEncoder()\n",
    "new_rad = enc.fit_transform(training_set.rad.values.reshape(-1,1)).toarray()\n",
    "new_training_set = pd.concat([training_set, pd.DataFrame(new_rad)], axis=1).drop(['rad','ID'], axis=1)\n",
    "###one hot encoding\n",
    "###label encoding"
   ]
  },
  {
   "cell_type": "markdown",
   "metadata": {},
   "source": [
    "---\n",
    "要特別注意 \n",
    "因為我們這裡資料沒有特別大\n",
    "所以可以使用one hot encoding 的方式\n",
    "如果資料量太大可以考慮使用label encoding\n",
    "然後也要看資料型式來決定\n",
    "因為一般label encoding都會遇到第一類+第三類的平均變成第二類的問題\n",
    "label encoding的code 如下\n",
    "```python\n",
    "from sklearn import preprocessing\n",
    "le = preprocessing.LabelEncoder()\n",
    "new_rad = le.fit_transform(training_set.rad)\n",
    "training_set.rad = new_rad\n",
    "```\n",
    "---"
   ]
  },
  {
   "cell_type": "markdown",
   "metadata": {},
   "source": [
    "# Step 5: Training!!!!!!!!!!!!!!!!!!!!!!!!!!!!!!!!!!!!!!!!!!!!!!!!!!!!!!"
   ]
  },
  {
   "cell_type": "markdown",
   "metadata": {},
   "source": [
    "---\n",
    "終於到了訓練的時候了 <br>\n",
    "但是再丟資料進去訓練前還有一些事情要做(怎麼這麼麻煩)\n",
    "\n",
    "---"
   ]
  },
  {
   "cell_type": "code",
   "execution_count": 25,
   "metadata": {},
   "outputs": [
    {
     "name": "stdout",
     "output_type": "stream",
     "text": [
      "(266, 21) (67, 21)\n",
      "(266,) (67,)\n"
     ]
    }
   ],
   "source": [
    "from sklearn.model_selection import train_test_split\n",
    "\n",
    "X_train, X_valid, y_train, y_valid = train_test_split(new_training_set, target, test_size=0.2, random_state= 12, shuffle=True)\n",
    "print(X_train.shape,X_valid.shape)\n",
    "print(y_train.shape,y_valid.shape)\n"
   ]
  },
  {
   "cell_type": "markdown",
   "metadata": {},
   "source": [
    "---\n",
    "常常會有人搞混testing set 跟validation set的差別<br>\n",
    "當然sklean的取名只會讓你更混亂<br>\n",
    "其實應該是要叫train validation split<br>\n",
    "因為我們分出來的validation是用來確保我們的資料不會overfit<br>\n",
    "我們會依據validation來對我們的model做調整<br>\n",
    "但因為我們不想要我們的資料只有在這個validation上面表現得好<br>\n",
    "所以我們最後會用testing在訓練完成後來計算真正的準確度<br>\n",
    "如果你覺得我講得不夠好 (如果這樣覺得也不要跟我講我會難過)<br>\n",
    "你可以參考這篇 它講得非常完整<br>\n",
    "https://stats.stackexchange.com/questions/19048/what-is-the-difference-between-test-set-and-validation-set<br>\n",
    "而一般kaggle比賽會幫你先把testing分出來<br>\n",
    "但是kaggle很邪惡會把testing再分成兩段<br>\n",
    "一段是你把資料傳上去時顯示的準確度<br>\n",
    "一段是真正的準確度<br>\n",
    "這樣做是為了避免比賽的人為了testing的準確度瘋狂條參數<br>\n",
    "而導致這個model只有在這個testing set上表現得特別好<br>\n",
    "如果你現在有認真在看前面的程式然後還沒睡著的話<br>\n",
    "你會發現前面偷偷read進來了一個testing set<br>\n",
    "但是上面只有features 沒有target value<br>\n",
    "我們最後的目的就是要用訓練好的model去跑這些資料<br>\n",
    "然後把我們的prediction上傳到https://www.kaggle.com/c/boston-housing<br>\n",
    "當然你也不用真的去上傳 <br>\n",
    "因為這份資料只是要幫助你了解怎麼訓練而已\n",
    "\n",
    "順帶一提  <br>\n",
    "請不要直接import sklearn <br>\n",
    "這個package過大直接import會爆炸\n",
    "\n",
    "---"
   ]
  },
  {
   "cell_type": "code",
   "execution_count": 26,
   "metadata": {},
   "outputs": [
    {
     "name": "stdout",
     "output_type": "stream",
     "text": [
      "R2 score:0.66\n"
     ]
    }
   ],
   "source": [
    "from sklearn.linear_model import LinearRegression #選擇模型\n",
    "from sklearn import metrics\n",
    "\n",
    "model1 = LinearRegression()#建立模型\n",
    "model1.fit(X_train,y_train)#訓練模型\n",
    "pred = model1.predict(X_valid)#模型預測\n",
    "print('R2 score:%.2f'%metrics.r2_score(y_valid, pred))\n",
    "###"
   ]
  },
  {
   "cell_type": "markdown",
   "metadata": {},
   "source": [
    "---\n",
    "一般來說我們會先用linear regression跑一次 <br>\n",
    "然後把它當作我們的baseline<br>\n",
    "因為如果訓練出來的結果比linear regression差<br>\n",
    "通常都是因為我們的train壞了或是這個模型不適合用在這裡\n",
    "\n",
    "---"
   ]
  },
  {
   "cell_type": "code",
   "execution_count": 27,
   "metadata": {},
   "outputs": [
    {
     "name": "stdout",
     "output_type": "stream",
     "text": [
      "train evaluation :\n",
      "R2 score:-0.01\n"
     ]
    }
   ],
   "source": [
    "from sklearn import svm\n",
    "\n",
    "model2 = svm.SVR(epsilon=0.1)\n",
    "model2.fit(X_train, y_train) \n",
    "pred = model2.predict(X_valid)\n",
    "print('train evaluation :')\n",
    "print('R2 score:%.2f'%metrics.r2_score(y_valid, pred))\n",
    "\n",
    "#使用linear regression"
   ]
  },
  {
   "cell_type": "code",
   "execution_count": 28,
   "metadata": {},
   "outputs": [
    {
     "name": "stdout",
     "output_type": "stream",
     "text": [
      "train evaluation :\n",
      "R2 score:0.76\n"
     ]
    },
    {
     "name": "stderr",
     "output_type": "stream",
     "text": [
      "/opt/conda/lib/python3.6/site-packages/sklearn/ensemble/weight_boosting.py:29: DeprecationWarning: numpy.core.umath_tests is an internal NumPy module and should not be imported. It will be removed in a future NumPy release.\n",
      "  from numpy.core.umath_tests import inner1d\n"
     ]
    }
   ],
   "source": [
    "from sklearn.ensemble import RandomForestRegressor\n",
    "\n",
    "model3 = RandomForestRegressor(max_depth=3, random_state=37,\n",
    "                             n_estimators=100)\n",
    "model3.fit(X_train, y_train)\n",
    "pred = model3.predict(X_valid)\n",
    "print('train evaluation :')\n",
    "print('R2 score:%.2f'%metrics.r2_score(y_valid, pred))\n",
    "#random forest"
   ]
  },
  {
   "cell_type": "code",
   "execution_count": 29,
   "metadata": {},
   "outputs": [
    {
     "name": "stdout",
     "output_type": "stream",
     "text": [
      "train evaluation :\n",
      "R2 score:0.65\n"
     ]
    }
   ],
   "source": [
    "from sklearn.linear_model import Lasso,Ridge\n",
    "\n",
    "model4 = Lasso(alpha = 0.01)\n",
    "model4.fit(X_train,y_train)\n",
    "pred = model4.predict(X_valid)\n",
    "print('train evaluation :')\n",
    "print('R2 score:%.2f'%metrics.r2_score(y_valid, pred))\n",
    "#使用lasso驗證效果"
   ]
  },
  {
   "cell_type": "code",
   "execution_count": 30,
   "metadata": {},
   "outputs": [
    {
     "name": "stdout",
     "output_type": "stream",
     "text": [
      "train evaluation :\n",
      "R2 score:0.66\n"
     ]
    }
   ],
   "source": [
    "model5 = Ridge(alpha = 0.01)\n",
    "model5.fit(X_train,y_train)\n",
    "pred = model5.predict(X_valid)\n",
    "print('train evaluation :')\n",
    "print('R2 score:%.2f'%metrics.r2_score(y_valid, pred))\n",
    "#使用ridge驗證"
   ]
  },
  {
   "cell_type": "markdown",
   "metadata": {},
   "source": [
    "---\n",
    "為什麼好像沒有進步多少呢?<br>\n",
    "可能性非常多<br>\n",
    "像是我們參數都沒有特別調整過<br>\n",
    "也沒有做feature engineering<br>\n",
    "feature engineering就是用像上面EDA講過的方法<br>\n",
    "根據觀察結果還有個人的判斷後<br>\n",
    "做出新的feature來增加準確度<br>\n",
    "也有可能是因為我們的資料量太少了<br>\n",
    "但這個沒辦法 <br>\n",
    "因為他們提供的資料就是這麼少<br>\n",
    "也有可能是因為我們還沒有對資料做過任何的regularization<br>\n",
    "以上示範如何使用min max scaler\n",
    "\n",
    "---"
   ]
  },
  {
   "cell_type": "code",
   "execution_count": 31,
   "metadata": {},
   "outputs": [
    {
     "name": "stdout",
     "output_type": "stream",
     "text": [
      "(266, 21) (67, 21)\n",
      "(266,) (67,)\n"
     ]
    }
   ],
   "source": [
    "from sklearn.preprocessing import MinMaxScaler\n",
    "\n",
    "scaler = MinMaxScaler()\n",
    "the_better_data = scaler.fit_transform(new_training_set)\n",
    "X_train, X_valid, y_train, y_valid = train_test_split(the_better_data, target, test_size=0.2, random_state= 12, shuffle=True)\n",
    "print(X_train.shape,X_valid.shape)\n",
    "print(y_train.shape,y_valid.shape)"
   ]
  },
  {
   "cell_type": "code",
   "execution_count": 32,
   "metadata": {},
   "outputs": [
    {
     "name": "stdout",
     "output_type": "stream",
     "text": [
      "R2 score:0.66\n"
     ]
    }
   ],
   "source": [
    "model1 = LinearRegression()#建立模型\n",
    "model1.fit(X_train,y_train)#訓練模型\n",
    "pred = model1.predict(X_valid)#模型預測\n",
    "print('R2 score:%.2f'%metrics.r2_score(y_valid, pred))"
   ]
  },
  {
   "cell_type": "code",
   "execution_count": 33,
   "metadata": {},
   "outputs": [
    {
     "name": "stdout",
     "output_type": "stream",
     "text": [
      "train evaluation :\n",
      "R2 score:0.40\n"
     ]
    }
   ],
   "source": [
    "model2 = svm.SVR(epsilon=0.1) ###SVR\n",
    "model2.fit(X_train, y_train) \n",
    "pred = model2.predict(X_valid)\n",
    "print('train evaluation :')\n",
    "print('R2 score:%.2f'%metrics.r2_score(y_valid, pred))"
   ]
  },
  {
   "cell_type": "code",
   "execution_count": 34,
   "metadata": {},
   "outputs": [
    {
     "name": "stdout",
     "output_type": "stream",
     "text": [
      "train evaluation :\n",
      "R2 score:0.76\n"
     ]
    }
   ],
   "source": [
    "model3 = RandomForestRegressor(max_depth=3, random_state=37,\n",
    "                             n_estimators=100)\n",
    "model3.fit(X_train, y_train)\n",
    "pred = model3.predict(X_valid)\n",
    "print('train evaluation :')\n",
    "print('R2 score:%.2f'%metrics.r2_score(y_valid, pred))"
   ]
  },
  {
   "cell_type": "code",
   "execution_count": 35,
   "metadata": {},
   "outputs": [
    {
     "name": "stdout",
     "output_type": "stream",
     "text": [
      "train evaluation :\n",
      "R2 score:0.66\n"
     ]
    }
   ],
   "source": [
    "model4 = Lasso(alpha = 0.01)\n",
    "model4.fit(X_train,y_train)\n",
    "pred = model4.predict(X_valid)\n",
    "print('train evaluation :')\n",
    "print('R2 score:%.2f'%metrics.r2_score(y_valid, pred))"
   ]
  },
  {
   "cell_type": "code",
   "execution_count": 36,
   "metadata": {},
   "outputs": [
    {
     "name": "stdout",
     "output_type": "stream",
     "text": [
      "train evaluation :\n",
      "R2 score:0.66\n"
     ]
    }
   ],
   "source": [
    "model5 = Ridge(alpha = 0.01)\n",
    "model5.fit(X_train,y_train)\n",
    "pred = model5.predict(X_valid)\n",
    "print('train evaluation :')\n",
    "print('R2 score:%.2f'%metrics.r2_score(y_valid, pred))"
   ]
  },
  {
   "cell_type": "code",
   "execution_count": 37,
   "metadata": {},
   "outputs": [
    {
     "name": "stdout",
     "output_type": "stream",
     "text": [
      "(333, 14)\n",
      "(173, 14)\n"
     ]
    }
   ],
   "source": [
    "print(training_set.shape)\n",
    "print(testing_set.shape)"
   ]
  },
  {
   "cell_type": "markdown",
   "metadata": {},
   "source": [
    "---\n",
    "效果也沒有顯著的增加<br>\n",
    "那這時候就得考慮乖乖的回去做EDA<br>\n",
    "或者是瘋狂的條參數<br>\n",
    "目前看起來還是RF regressor在這裡看起來效果最好<br>\n",
    "所以我們會選擇這次會選擇使用model3\n",
    "\n",
    "---"
   ]
  },
  {
   "cell_type": "code",
   "execution_count": 2,
   "metadata": {},
   "outputs": [
    {
     "ename": "NameError",
     "evalue": "name 'enc' is not defined",
     "output_type": "error",
     "traceback": [
      "\u001b[0;31m---------------------------------------------------------------------------\u001b[0m",
      "\u001b[0;31mNameError\u001b[0m                                 Traceback (most recent call last)",
      "\u001b[0;32m<ipython-input-2-91d890e969bb>\u001b[0m in \u001b[0;36m<module>\u001b[0;34m()\u001b[0m\n\u001b[0;32m----> 1\u001b[0;31m \u001b[0mnew_rad\u001b[0m \u001b[0;34m=\u001b[0m \u001b[0menc\u001b[0m\u001b[0;34m.\u001b[0m\u001b[0mfit_transform\u001b[0m\u001b[0;34m(\u001b[0m\u001b[0mtesting_set\u001b[0m\u001b[0;34m.\u001b[0m\u001b[0mrad\u001b[0m\u001b[0;34m.\u001b[0m\u001b[0mvalues\u001b[0m\u001b[0;34m.\u001b[0m\u001b[0mreshape\u001b[0m\u001b[0;34m(\u001b[0m\u001b[0;34m-\u001b[0m\u001b[0;36m1\u001b[0m\u001b[0;34m,\u001b[0m\u001b[0;36m1\u001b[0m\u001b[0;34m)\u001b[0m\u001b[0;34m)\u001b[0m\u001b[0;34m.\u001b[0m\u001b[0mtoarray\u001b[0m\u001b[0;34m(\u001b[0m\u001b[0;34m)\u001b[0m\u001b[0;34m\u001b[0m\u001b[0m\n\u001b[0m\u001b[1;32m      2\u001b[0m \u001b[0mnew_testing_set\u001b[0m \u001b[0;34m=\u001b[0m \u001b[0mpd\u001b[0m\u001b[0;34m.\u001b[0m\u001b[0mconcat\u001b[0m\u001b[0;34m(\u001b[0m\u001b[0;34m[\u001b[0m\u001b[0mtesting_set\u001b[0m\u001b[0;34m,\u001b[0m \u001b[0mpd\u001b[0m\u001b[0;34m.\u001b[0m\u001b[0mDataFrame\u001b[0m\u001b[0;34m(\u001b[0m\u001b[0mnew_rad\u001b[0m\u001b[0;34m)\u001b[0m\u001b[0;34m]\u001b[0m\u001b[0;34m,\u001b[0m \u001b[0maxis\u001b[0m\u001b[0;34m=\u001b[0m\u001b[0;36m1\u001b[0m\u001b[0;34m)\u001b[0m\u001b[0;34m.\u001b[0m\u001b[0mdrop\u001b[0m\u001b[0;34m(\u001b[0m\u001b[0;34m[\u001b[0m\u001b[0;34m'rad'\u001b[0m\u001b[0;34m,\u001b[0m\u001b[0;34m'ID'\u001b[0m\u001b[0;34m]\u001b[0m\u001b[0;34m,\u001b[0m \u001b[0maxis\u001b[0m\u001b[0;34m=\u001b[0m\u001b[0;36m1\u001b[0m\u001b[0;34m)\u001b[0m\u001b[0;34m\u001b[0m\u001b[0m\n\u001b[1;32m      3\u001b[0m \u001b[0mthe_better_testing\u001b[0m \u001b[0;34m=\u001b[0m \u001b[0mscaler\u001b[0m\u001b[0;34m.\u001b[0m\u001b[0mfit_transform\u001b[0m\u001b[0;34m(\u001b[0m\u001b[0mnew_testing_set\u001b[0m\u001b[0;34m)\u001b[0m\u001b[0;34m\u001b[0m\u001b[0m\n\u001b[1;32m      4\u001b[0m \u001b[0;31m######\u001b[0m\u001b[0;34m\u001b[0m\u001b[0;34m\u001b[0m\u001b[0m\n\u001b[1;32m      5\u001b[0m \u001b[0mresult\u001b[0m \u001b[0;34m=\u001b[0m \u001b[0mmodel3\u001b[0m\u001b[0;34m.\u001b[0m\u001b[0mpredict\u001b[0m\u001b[0;34m(\u001b[0m\u001b[0mthe_better_testing\u001b[0m\u001b[0;34m)\u001b[0m\u001b[0;34m\u001b[0m\u001b[0m\n",
      "\u001b[0;31mNameError\u001b[0m: name 'enc' is not defined"
     ]
    }
   ],
   "source": [
    "new_rad = enc.fit_transform(testing_set.rad.values.reshape(-1,1)).toarray()\n",
    "new_testing_set = pd.concat([testing_set, pd.DataFrame(new_rad)], axis=1).drop(['rad','ID'], axis=1)\n",
    "the_better_testing = scaler.fit_transform(new_testing_set)\n",
    "######\n",
    "result = model3.predict(the_better_testing)\n",
    "submit = pd.concat([testing_set.ID, pd.Series(result)], axis=1)\n",
    "submit.columns = ['ID', 'medv']"
   ]
  },
  {
   "cell_type": "markdown",
   "metadata": {},
   "source": [
    "---\n",
    "通常kaggle都會提供一個submission_example(格式)<br>\n",
    "打開來看之後我們得知我們不只需要結果<br>\n",
    "還需要有ID<br>\n",
    "所以我們可以用concat的方法把ID跟我們的結果合在一起<br>\n",
    "如果想要知道各種酷炫得結合方法<br>\n",
    "可以參考這個網址<br>\n",
    "https://pandas.pydata.org/pandas-docs/stable/merging.html\n",
    "\n",
    "特別注意因為我們最後一個model是使用Ridge<br>\n",
    "所以這個prediction是使用ridge<br>\n",
    "自己在做的時候要特別注意要去使用你覺得結果最好的Model<br>\n",
    "這裡因為三個都沒有特別的突出我就隨便用一個了\n",
    "\n",
    "---"
   ]
  },
  {
   "cell_type": "code",
   "execution_count": 50,
   "metadata": {},
   "outputs": [],
   "source": [
    "submit.to_csv('Finally.csv', index=False)"
   ]
  },
  {
   "cell_type": "markdown",
   "metadata": {},
   "source": [
    "---\n",
    "這樣就完成了!<br>\n",
    "雖然這個model的結果不是特別好<br>\n",
    "但是至少做出kaggle要的樣子了<br>\n",
    "那今天我們就先講到這裡<br>\n",
    "請大家期待下一集!\n",
    "\n",
    "---"
   ]
  }
 ],
 "metadata": {
  "kernelspec": {
   "display_name": "Python 3",
   "language": "python",
   "name": "python3"
  },
  "language_info": {
   "codemirror_mode": {
    "name": "ipython",
    "version": 3
   },
   "file_extension": ".py",
   "mimetype": "text/x-python",
   "name": "python",
   "nbconvert_exporter": "python",
   "pygments_lexer": "ipython3",
   "version": "3.6.6"
  }
 },
 "nbformat": 4,
 "nbformat_minor": 2
}
