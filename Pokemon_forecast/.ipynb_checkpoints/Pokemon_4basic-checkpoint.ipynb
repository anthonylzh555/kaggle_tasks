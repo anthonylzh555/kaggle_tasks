{
 "cells": [
  {
   "cell_type": "code",
   "execution_count": 1,
   "metadata": {},
   "outputs": [],
   "source": [
    "%matplotlib inline\n",
    "import matplotlib.pyplot as plt\n",
    "import numpy as np\n",
    "import pandas as pd\n",
    "import tensorflow as tf\n",
    "import os\n",
    "from sklearn.preprocessing import MinMaxScaler\n",
    "from sklearn.utils import shuffle\n",
    "from sklearn.metrics import accuracy_score\n",
    "\n",
    "train_set = pd.read_csv('Data/train.csv')\n",
    "test_set = pd.read_csv('Data/test.csv')"
   ]
  },
  {
   "cell_type": "code",
   "execution_count": 4,
   "metadata": {},
   "outputs": [],
   "source": [
    "id_train = train_set.ID\n",
    "id_test = test_set.id\n",
    "class_train = pd.get_dummies(train_set.iloc[:,-1])"
   ]
  },
  {
   "cell_type": "code",
   "execution_count": 5,
   "metadata": {},
   "outputs": [],
   "source": [
    "#drop\n",
    "train_set.drop(['ID','class'], axis=1, inplace=True)\n",
    "test_set.drop(['id'], axis=1, inplace=True)\n",
    "train_set.reset_index(drop=True).head();\n",
    "test_set.reset_index(drop=True).head();\n",
    "merge = pd.concat([train_set, test_set], axis=0)\n",
    "merge=merge.drop(['gymIn100m','gymIn250m','gymIn500m','gymIn1000m'\n",
    "                  ,'gymIn2500m','gymIn5000m','pokestopIn100m','pokestopIn250m'\n",
    "                  ,'pokestopIn500m','pokestopIn1000m','pokestopIn2500m'\n",
    "                  ,'pokestopIn5000m','continent','appearedMinute'],axis=1)\n",
    "merge.reset_index(drop=True).head();"
   ]
  },
  {
   "cell_type": "code",
   "execution_count": 6,
   "metadata": {},
   "outputs": [],
   "source": [
    "#merge= merge.drop(merge.columns[17:],axis=1)"
   ]
  },
  {
   "cell_type": "code",
   "execution_count": 7,
   "metadata": {},
   "outputs": [],
   "source": [
    "#sum(train_set.iloc[:,123])\n",
    "#train_set.columns[31]\n",
    "#for i in range(31,182):\n",
    "#    if sum(train_set.iloc[:,i]) == 0:\n",
    "#        merge=merge.drop([train_set.columns[i]], axis=1)\n",
    "#merge.reset_index(drop=True).head();"
   ]
  },
  {
   "cell_type": "code",
   "execution_count": 8,
   "metadata": {},
   "outputs": [],
   "source": [
    "#將 bool轉為 1 & 0\n",
    "bool_feature = merge.select_dtypes(include=[np.bool]).columns\n",
    "for col in bool_feature:\n",
    "    merge[col] = merge[col].astype(int)"
   ]
  },
  {
   "cell_type": "code",
   "execution_count": 9,
   "metadata": {},
   "outputs": [],
   "source": [
    "#one hot encoding\n",
    "merge = pd.get_dummies(merge, drop_first=True)"
   ]
  },
  {
   "cell_type": "code",
   "execution_count": 10,
   "metadata": {},
   "outputs": [],
   "source": [
    "from sklearn.preprocessing import MinMaxScaler\n",
    "scaler = MinMaxScaler()\n",
    "merge['population_density'] = scaler.fit_transform(merge['population_density'].values.reshape(-1,1))\n",
    "merge['gymDistanceKm'] = scaler.fit_transform(merge['gymDistanceKm'].values.reshape(-1,1))\n",
    "merge['pokestopDistanceKm'] = scaler.fit_transform(merge['pokestopDistanceKm'].values.reshape(-1,1))\n",
    "merge['windSpeed'] = scaler.fit_transform(merge['windSpeed'].values.reshape(-1,1))\n",
    "#merge.windSpeed"
   ]
  },
  {
   "cell_type": "code",
   "execution_count": 11,
   "metadata": {},
   "outputs": [],
   "source": [
    "#針對距離太大的給定植\n",
    "mask = merge['gymDistanceKm'] > 10\n",
    "merge.loc[mask, 'gymDistanceKm'] =10\n",
    "\n",
    "mask = merge['pokestopDistanceKm'] > 5\n",
    "merge.loc[mask, 'pokestopDistanceKm'] = 5"
   ]
  },
  {
   "cell_type": "code",
   "execution_count": 12,
   "metadata": {},
   "outputs": [],
   "source": [
    "train_set, test_set = np.split(merge, [7160], axis=0)"
   ]
  },
  {
   "cell_type": "code",
   "execution_count": 13,
   "metadata": {},
   "outputs": [],
   "source": [
    "#分割 train and validation data\n",
    "from sklearn.model_selection import train_test_split\n",
    "X_train, X_val, y_train, y_val = train_test_split(train_set,class_train,\n",
    "                                                    test_size = 0.1)\n",
    "#y_train.shape[1]"
   ]
  },
  {
   "cell_type": "code",
   "execution_count": 14,
   "metadata": {},
   "outputs": [
    {
     "data": {
      "text/plain": [
       "(6444, 272)"
      ]
     },
     "execution_count": 14,
     "metadata": {},
     "output_type": "execute_result"
    }
   ],
   "source": [
    "X_train.shape"
   ]
  },
  {
   "cell_type": "code",
   "execution_count": 15,
   "metadata": {},
   "outputs": [
    {
     "name": "stdout",
     "output_type": "stream",
     "text": [
      "WARNING:tensorflow:From <ipython-input-15-9844934ca09b>:31: softmax_cross_entropy_with_logits (from tensorflow.python.ops.nn_ops) is deprecated and will be removed in a future version.\n",
      "Instructions for updating:\n",
      "\n",
      "Future major versions of TensorFlow will allow gradients to flow\n",
      "into the labels input on backprop by default.\n",
      "\n",
      "See @{tf.nn.softmax_cross_entropy_with_logits_v2}.\n",
      "\n"
     ]
    }
   ],
   "source": [
    "batch_size = 30\n",
    "epochs = 50\n",
    "lr = 0.001\n",
    "# ------------------------------------graph-----------------------------------------\n",
    "tf.reset_default_graph() # clean graph\n",
    "# Declare the input node\n",
    "with tf.name_scope('input'):\n",
    "    x_input = tf.placeholder(shape = (None,X_train.shape[1]), \n",
    "                             name = 'x_input',\n",
    "                             dtype=tf.float32)\n",
    "    y_out = tf.placeholder(shape = (None, y_train.shape[1]), \n",
    "                           name = 'y_label',\n",
    "                           dtype=tf.float32)\n",
    "\n",
    "# --------------------Declare the network structure----------------------------\n",
    "\"\"\"---------與上面不一樣的地方(將一個layer的所有程式用一個內建function取代)----------\"\"\"\n",
    "with tf.variable_scope('hidden_layer'):\n",
    "    x_h1 = tf.layers.dense(inputs= x_input, units= 256, activation=tf.nn.leaky_relu)\n",
    "    x_h2 = tf.layers.dense(inputs= x_h1, units= 128, activation=tf.nn.leaky_relu)\n",
    "    x_h3 = tf.layers.dense(inputs= x_h2, units= 64, activation=tf.nn.leaky_relu)\n",
    "    x_h4 = tf.layers.dense(inputs= x_h3, units= 64, activation=tf.nn.leaky_relu)\n",
    "    x_h5 = tf.layers.dense(inputs= x_h4, units= 32, activation=tf.nn.leaky_relu)\n",
    "    #x_h6 = tf.layers.dense(inputs= x_h5, units= 32, activation=tf.nn.relu)\n",
    "    #x_h7 = tf.layers.dense(inputs= x_h6, units= 16, activation=tf.nn.relu)\n",
    "    #x_h8 = tf.layers.dense(inputs= x_h7, units= 16, activation=tf.nn.relu)\n",
    "\n",
    "with tf.variable_scope('output_layer'):\n",
    "    output = tf.layers.dense(x_h5, y_train.shape[1])\n",
    "'''---------------------------------------------------------------------------'''\n",
    "with tf.name_scope('cross_entropy'):\n",
    "    loss = tf.reduce_mean(tf.nn.softmax_cross_entropy_with_logits(logits=output, labels=y_out))\n",
    "    \n",
    "with tf.name_scope('accuracy'):\n",
    "    correct_prediction = tf.equal(tf.argmax(tf.nn.softmax(output),1), tf.argmax(y_out,1))\n",
    "    compute_acc = tf.reduce_mean(tf.cast(correct_prediction, tf.float32))\n",
    "\n",
    "with tf.name_scope('train'):\n",
    "    train_step = tf.train.AdamOptimizer(learning_rate=lr).minimize(loss)"
   ]
  },
  {
   "cell_type": "code",
   "execution_count": 16,
   "metadata": {},
   "outputs": [
    {
     "name": "stderr",
     "output_type": "stream",
     "text": [
      "100%|██████████| 50/50 [00:43<00:00,  1.17it/s]\n"
     ]
    },
    {
     "name": "stdout",
     "output_type": "stream",
     "text": [
      "--- training done ---\n",
      "testing accuracy: 0.53\n"
     ]
    },
    {
     "data": {
      "image/png": "[encoded data removed]",
      "text/plain": [
       "<Figure size 432x288 with 1 Axes>"
      ]
     },
     "metadata": {
      "needs_background": "light"
     },
     "output_type": "display_data"
    },
    {
     "data": {
      "image/png": "[encoded data removed]",
      "text/plain": [
       "<Figure size 432x288 with 1 Axes>"
      ]
     },
     "metadata": {
      "needs_background": "light"
     },
     "output_type": "display_data"
    }
   ],
   "source": [
    "from tqdm import tqdm\n",
    "train_loss_list, valid_loss_list = [], []\n",
    "train_acc_list, valid_acc_list = [], []\n",
    "#-------------------------------------------------------sess-------------------------------------------------------\n",
    "with tf.Session() as sess:\n",
    "    # we have to initalize all variables (e.g. weights/biases) at beginning.\n",
    "    sess.run([tf.global_variables_initializer()])\n",
    "    # writer = tf.summary.FileWriter(\"./graph/\", sess.graph)\n",
    "    for i in tqdm(range(epochs)):\n",
    "        # get batch \n",
    "        total_batch = int(np.floor(len(X_train) / batch_size)) \n",
    "        # 透過batch size 與資料量計算有幾個batch， just drop out last few samples ...\n",
    "        \n",
    "        train_loss_collector, train_acc_collector = [], []\n",
    "        for j in np.arange(total_batch):\n",
    "            #-------------------------------取一個batch 的資料-------------------------------------\n",
    "            batch_idx_start = j * batch_size\n",
    "            batch_idx_stop = (j+1) * batch_size\n",
    "\n",
    "            x_batch = X_train[batch_idx_start : batch_idx_stop] \n",
    "            y_batch = y_train[batch_idx_start : batch_idx_stop]\n",
    "            #------------------------------------------------------------------------------------\n",
    "            this_loss, this_acc, _ = sess.run([loss, compute_acc, train_step], \n",
    "                                    feed_dict = {x_input: x_batch,\n",
    "                                                 y_out: y_batch})\n",
    "            # run上一個cell最後三個tensor得到loss值,正確率,和一次優化(得到新的weight 和biases)\n",
    "            train_loss_collector.append(this_loss) #記錄每個batch的loss\n",
    "            train_acc_collector.append(this_acc)   #記錄每個batch的acc\n",
    "            \n",
    "        # do validation at the end of each epoch(run完一個epoch後，計算一下validation acc 與 validation loss)\n",
    "        valid_acc, valid_loss = sess.run([compute_acc, loss],\n",
    "                                         feed_dict = {x_input: X_val,\n",
    "                                                      y_out : y_val})\n",
    "        valid_loss_list.append(valid_loss) #記錄validation loss\n",
    "        valid_acc_list.append(valid_acc)   #記錄validation acc\n",
    "        train_loss_list.append(np.mean(train_loss_collector)) #記錄每個epoch 平均 loss\n",
    "        train_acc_list.append(np.mean(train_acc_collector))   #記錄每個epoch 平均 acc\n",
    "\n",
    "        # at the end of each epoch, shuffle the data 重新排列資料並進入下一個i(epochs)\n",
    "        X_train, y_train = shuffle(X_train, y_train)\n",
    "    # At the end of the training, do testing set\n",
    "    #test_acc, test_loss = sess.run([compute_acc, loss],\n",
    "                                    #feed_dict = {x_input: x_test,\n",
    "                                                 #y_out : y_test})\n",
    "    #將test data轉乘CSV輸出\n",
    "    test_pred = sess.run(output, feed_dict={x_input:test_set})\n",
    "    result = np.argmax(test_pred, axis =1)\n",
    "    out = list(zip(id_test, result))\n",
    "    df = pd.DataFrame(data = out, columns=['ID','class'])\n",
    "    df.to_csv('result.csv', index =False, header = True)\n",
    "print('--- training done ---')\n",
    "print('testing accuracy: %.2f' % valid_acc_list[-1])\n",
    "#------------------------------------------------------plot----------------------------------------------------------\n",
    "plt.plot(np.arange(len(train_loss_list)), train_loss_list, 'b', label = 'train')\n",
    "plt.plot(np.arange(len(valid_loss_list)), valid_loss_list, 'r', label = 'valid')\n",
    "plt.legend()\n",
    "plt.title(\"Loss\")\n",
    "plt.show()\n",
    "\n",
    "plt.plot(np.arange(len(train_acc_list)), train_acc_list, 'b', label = 'train')\n",
    "plt.plot(np.arange(len(valid_acc_list)), valid_acc_list, 'r', label = 'valid')\n",
    "plt.legend(loc = 4)\n",
    "plt.title(\"Accuracy\")\n",
    "plt.show()"
   ]
  },
  {
   "cell_type": "markdown",
   "metadata": {},
   "source": [
    "## parameter\n",
    "batch_size = 50  \n",
    "epochs = 80  \n",
    "lr = 0.001  \n",
    "with tf.variable_scope('hidden_layer'):  \n",
    "    x_h1 = tf.layers.dense(inputs= x_input, units= 256, activation=tf.nn.leaky_relu)  \n",
    "    x_h2 = tf.layers.dense(inputs= x_h1, units= 256, activation=tf.nn.leaky_relu)  \n",
    "    x_h3 = tf.layers.dense(inputs= x_h2, units= 128, activation=tf.nn.leaky_relu)  \n",
    "    x_h4 = tf.layers.dense(inputs= x_h3, units= 64, activation=tf.nn.leaky_relu)  \n",
    "    x_h5 = tf.layers.dense(inputs= x_h4, units= 32, activation=tf.nn.leaky_relu)  \n",
    "\n"
   ]
  },
  {
   "cell_type": "code",
   "execution_count": null,
   "metadata": {},
   "outputs": [],
   "source": []
  }
 ],
 "metadata": {
  "kernelspec": {
   "display_name": "Python 3",
   "language": "python",
   "name": "python3"
  },
  "language_info": {
   "codemirror_mode": {
    "name": "ipython",
    "version": 3
   },
   "file_extension": ".py",
   "mimetype": "text/x-python",
   "name": "python",
   "nbconvert_exporter": "python",
   "pygments_lexer": "ipython3",
   "version": "3.6.6"
  }
 },
 "nbformat": 4,
 "nbformat_minor": 2
}
