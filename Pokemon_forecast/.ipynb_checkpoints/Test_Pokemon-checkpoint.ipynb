{
 "cells": [
  {
   "cell_type": "code",
   "execution_count": 36,
   "metadata": {},
   "outputs": [],
   "source": [
    "%matplotlib inline\n",
    "import matplotlib.pyplot as plt\n",
    "import numpy as np\n",
    "import pandas as pd\n",
    "import tensorflow as tf\n",
    "import os\n",
    "from sklearn.preprocessing import MinMaxScaler\n",
    "from sklearn.utils import shuffle\n",
    "from sklearn.metrics import accuracy_score\n",
    "\n",
    "train_set = pd.read_csv('Data/train.csv')\n",
    "test_set = pd.read_csv('Data/test.csv')"
   ]
  },
  {
   "cell_type": "code",
   "execution_count": 37,
   "metadata": {},
   "outputs": [],
   "source": [
    "id_train = train_set.ID\n",
    "id_test = test_set.id\n",
    "class_train = pd.get_dummies(train_set.iloc[:,-1])"
   ]
  },
  {
   "cell_type": "code",
   "execution_count": 38,
   "metadata": {},
   "outputs": [],
   "source": [
    "#drop\n",
    "train_set.drop(['ID','class'], axis=1, inplace=True)\n",
    "test_set.drop(['id'], axis=1, inplace=True)\n",
    "train_set.reset_index(drop=True).head();\n",
    "test_set.reset_index(drop=True).head();\n",
    "\n",
    "merge = pd.concat([train_set, test_set], axis=0)\n",
    "merge=merge.drop(['gymIn100m','gymIn250m','gymIn500m','gymIn1000m'\n",
    "                  ,'gymIn2500m','gymIn5000m','pokestopIn100m','pokestopIn250m'\n",
    "                  ,'pokestopIn500m','pokestopIn1000m','pokestopIn2500m'\n",
    "                  ,'pokestopIn5000m','continent','appearedMinute', 'population_density'\n",
    "                  , 'urban', 'suburban', 'midurban', 'rural'],axis=1)\n",
    "merge.reset_index(drop=True).head();"
   ]
  },
  {
   "cell_type": "code",
   "execution_count": 39,
   "metadata": {},
   "outputs": [],
   "source": [
    "bool_feature = merge.select_dtypes(include=[np.bool]).columns\n",
    "for col in bool_feature:\n",
    "    merge[col] = merge[col].astype(int)"
   ]
  },
  {
   "cell_type": "code",
   "execution_count": 40,
   "metadata": {},
   "outputs": [],
   "source": [
    "#one hot encoding\n",
    "merge = pd.get_dummies(merge, drop_first=True)"
   ]
  },
  {
   "cell_type": "code",
   "execution_count": 41,
   "metadata": {},
   "outputs": [],
   "source": [
    "from sklearn.preprocessing import MinMaxScaler\n",
    "scaler = MinMaxScaler()\n",
    "#merge['population_density'] = scaler.fit_transform(merge['population_density'].values.reshape(-1,1))\n",
    "merge['gymDistanceKm'] = scaler.fit_transform(merge['gymDistanceKm'].values.reshape(-1,1))\n",
    "merge['pokestopDistanceKm'] = scaler.fit_transform(merge['pokestopDistanceKm'].values.reshape(-1,1))\n",
    "merge['windSpeed'] = scaler.fit_transform(merge['windSpeed'].values.reshape(-1,1))\n",
    "#merge.windSpeed"
   ]
  },
  {
   "cell_type": "code",
   "execution_count": 42,
   "metadata": {},
   "outputs": [
    {
     "data": {
      "text/plain": [
       "\"\\nmask = merge['population_density'] > 5\\nmerge.loc[mask, 'population_density'] = 5\\n\""
      ]
     },
     "execution_count": 42,
     "metadata": {},
     "output_type": "execute_result"
    }
   ],
   "source": [
    "#針對距離太大的給定植\n",
    "mask = merge['gymDistanceKm'] > 10\n",
    "merge.loc[mask, 'gymDistanceKm'] =10\n",
    "\n",
    "mask = merge['pokestopDistanceKm'] > 5\n",
    "merge.loc[mask, 'pokestopDistanceKm'] = 5\n",
    "\n",
    "'''\n",
    "mask = merge['population_density'] > 5\n",
    "merge.loc[mask, 'population_density'] = 5\n",
    "'''"
   ]
  },
  {
   "cell_type": "code",
   "execution_count": 43,
   "metadata": {},
   "outputs": [],
   "source": [
    "train_set, test_set = np.split(merge, [7160], axis=0)"
   ]
  },
  {
   "cell_type": "code",
   "execution_count": 44,
   "metadata": {},
   "outputs": [],
   "source": [
    "#分割 train and validation data\n",
    "from sklearn.model_selection import train_test_split\n",
    "X_train, X_val, y_train, y_val = train_test_split(train_set,class_train,test_size = 0.1)\n",
    "#y_train.shape[1]"
   ]
  },
  {
   "cell_type": "code",
   "execution_count": 45,
   "metadata": {},
   "outputs": [
    {
     "data": {
      "text/plain": [
       "(6444, 267)"
      ]
     },
     "execution_count": 45,
     "metadata": {},
     "output_type": "execute_result"
    }
   ],
   "source": [
    "X_train.shape"
   ]
  },
  {
   "cell_type": "code",
   "execution_count": 48,
   "metadata": {},
   "outputs": [],
   "source": [
    "batch_size = 50\n",
    "epochs = 100\n",
    "lr = 0.001\n",
    "# ------------------------------------graph-----------------------------------------\n",
    "tf.reset_default_graph() # clean graph\n",
    "# Declare the input node\n",
    "with tf.name_scope('input'):\n",
    "    x_input = tf.placeholder(shape = (None,X_train.shape[1]), \n",
    "                             name = 'x_input',\n",
    "                             dtype=tf.float32)\n",
    "    y_out = tf.placeholder(shape = (None, y_train.shape[1]), \n",
    "                           name = 'y_label',\n",
    "                           dtype=tf.float32)\n",
    "\n",
    "# --------------------Declare the network structure----------------------------\n",
    "\"\"\"---------與上面不一樣的地方(將一個layer的所有程式用一個內建function取代)----------\"\"\"\n",
    "with tf.variable_scope('hidden_layer'):\n",
    "    x_h1 = tf.layers.dense(inputs= x_input, units= 256, activation=tf.nn.leaky_relu)\n",
    "    x_h2 = tf.layers.dense(inputs= x_h1, units= 128, activation=tf.nn.leaky_relu)\n",
    "    x_h3 = tf.layers.dense(inputs= x_h2, units= 64, activation=tf.nn.leaky_relu)\n",
    "    x_h4 = tf.layers.dense(inputs= x_h3, units= 64, activation=tf.nn.leaky_relu)\n",
    "    x_h5 = tf.layers.dense(inputs= x_h4, units= 32, activation=tf.nn.leaky_relu)\n",
    "    #x_h6 = tf.layers.dense(inputs= x_h5, units= 32, activation=tf.nn.relu)\n",
    "    #x_h7 = tf.layers.dense(inputs= x_h6, units= 16, activation=tf.nn.relu)\n",
    "    #x_h8 = tf.layers.dense(inputs= x_h7, units= 16, activation=tf.nn.relu)\n",
    "\n",
    "with tf.variable_scope('output_layer'):\n",
    "    output = tf.layers.dense(x_h5, y_train.shape[1])\n",
    "'''---------------------------------------------------------------------------'''\n",
    "with tf.name_scope('cross_entropy'):\n",
    "    loss = tf.reduce_mean(tf.nn.softmax_cross_entropy_with_logits(logits=output, labels=y_out))\n",
    "    \n",
    "with tf.name_scope('accuracy'):\n",
    "    correct_prediction = tf.equal(tf.argmax(tf.nn.softmax(output),1), tf.argmax(y_out,1))\n",
    "    compute_acc = tf.reduce_mean(tf.cast(correct_prediction, tf.float32))\n",
    "\n",
    "with tf.name_scope('train'):\n",
    "    train_step = tf.train.AdamOptimizer(learning_rate=lr).minimize(loss)"
   ]
  },
  {
   "cell_type": "code",
   "execution_count": 49,
   "metadata": {},
   "outputs": [
    {
     "name": "stderr",
     "output_type": "stream",
     "text": [
      "\n",
      "  0%|          | 0/100 [00:00<?, ?it/s]\u001b[A\n",
      "  1%|          | 1/100 [00:00<00:58,  1.70it/s]\u001b[A\n",
      "  2%|▏         | 2/100 [00:01<00:54,  1.80it/s]\u001b[A\n",
      "  3%|▎         | 3/100 [00:01<00:51,  1.88it/s]\u001b[A\n",
      "  4%|▍         | 4/100 [00:01<00:48,  1.98it/s]\u001b[A\n",
      "  5%|▌         | 5/100 [00:02<00:46,  2.03it/s]\u001b[A\n",
      "  6%|▌         | 6/100 [00:02<00:45,  2.04it/s]\u001b[A\n",
      "  7%|▋         | 7/100 [00:03<00:45,  2.06it/s]\u001b[A\n",
      "  8%|▊         | 8/100 [00:03<00:44,  2.09it/s]\u001b[A\n",
      "  9%|▉         | 9/100 [00:04<00:43,  2.08it/s]\u001b[A\n",
      " 10%|█         | 10/100 [00:04<00:43,  2.08it/s]\u001b[A\n",
      " 11%|█         | 11/100 [00:05<00:42,  2.07it/s]\u001b[A\n",
      " 12%|█▏        | 12/100 [00:05<00:42,  2.05it/s]\u001b[A\n",
      " 13%|█▎        | 13/100 [00:06<00:42,  2.03it/s]\u001b[A\n",
      " 14%|█▍        | 14/100 [00:06<00:42,  2.05it/s]\u001b[A\n",
      " 15%|█▌        | 15/100 [00:07<00:41,  2.05it/s]\u001b[A\n",
      " 16%|█▌        | 16/100 [00:07<00:40,  2.05it/s]\u001b[A\n",
      " 17%|█▋        | 17/100 [00:08<00:40,  2.05it/s]\u001b[A\n",
      " 18%|█▊        | 18/100 [00:08<00:40,  2.04it/s]\u001b[A\n",
      " 19%|█▉        | 19/100 [00:09<00:39,  2.05it/s]\u001b[A\n",
      " 20%|██        | 20/100 [00:09<00:38,  2.09it/s]\u001b[A\n",
      " 21%|██        | 21/100 [00:10<00:38,  2.08it/s]\u001b[A\n",
      " 22%|██▏       | 22/100 [00:10<00:37,  2.09it/s]\u001b[A\n",
      " 23%|██▎       | 23/100 [00:11<00:36,  2.09it/s]\u001b[A\n",
      " 24%|██▍       | 24/100 [00:11<00:36,  2.10it/s]\u001b[A\n",
      " 25%|██▌       | 25/100 [00:12<00:36,  2.06it/s]\u001b[A\n",
      " 26%|██▌       | 26/100 [00:12<00:35,  2.08it/s]\u001b[A\n",
      " 27%|██▋       | 27/100 [00:13<00:34,  2.10it/s]\u001b[A\n",
      " 28%|██▊       | 28/100 [00:13<00:34,  2.10it/s]\u001b[A\n",
      " 29%|██▉       | 29/100 [00:14<00:33,  2.10it/s]\u001b[A\n",
      " 30%|███       | 30/100 [00:14<00:32,  2.15it/s]\u001b[A\n",
      " 31%|███       | 31/100 [00:14<00:31,  2.16it/s]\u001b[A\n",
      " 32%|███▏      | 32/100 [00:15<00:31,  2.14it/s]\u001b[A\n",
      " 33%|███▎      | 33/100 [00:15<00:31,  2.13it/s]\u001b[A\n",
      " 34%|███▍      | 34/100 [00:16<00:31,  2.11it/s]\u001b[A\n",
      " 35%|███▌      | 35/100 [00:16<00:30,  2.10it/s]\u001b[A\n",
      " 36%|███▌      | 36/100 [00:17<00:30,  2.08it/s]\u001b[A\n",
      " 37%|███▋      | 37/100 [00:17<00:30,  2.08it/s]\u001b[A\n",
      " 38%|███▊      | 38/100 [00:18<00:29,  2.07it/s]\u001b[A\n",
      " 39%|███▉      | 39/100 [00:18<00:29,  2.09it/s]\u001b[A\n",
      " 40%|████      | 40/100 [00:19<00:29,  2.06it/s]\u001b[A\n",
      " 41%|████      | 41/100 [00:19<00:29,  2.03it/s]\u001b[A\n",
      " 42%|████▏     | 42/100 [00:20<00:28,  2.05it/s]\u001b[A\n",
      " 43%|████▎     | 43/100 [00:20<00:27,  2.04it/s]\u001b[A\n",
      " 44%|████▍     | 44/100 [00:21<00:26,  2.08it/s]\u001b[A\n",
      " 45%|████▌     | 45/100 [00:21<00:26,  2.09it/s]\u001b[A\n",
      " 46%|████▌     | 46/100 [00:22<00:25,  2.08it/s]\u001b[A\n",
      " 47%|████▋     | 47/100 [00:22<00:25,  2.09it/s]\u001b[A\n",
      " 48%|████▊     | 48/100 [00:23<00:24,  2.10it/s]\u001b[A\n",
      " 49%|████▉     | 49/100 [00:23<00:24,  2.12it/s]\u001b[A\n",
      " 50%|█████     | 50/100 [00:24<00:23,  2.11it/s]\u001b[A\n",
      " 51%|█████     | 51/100 [00:24<00:23,  2.10it/s]\u001b[A\n",
      " 52%|█████▏    | 52/100 [00:24<00:22,  2.10it/s]\u001b[A\n",
      " 53%|█████▎    | 53/100 [00:25<00:22,  2.11it/s]\u001b[A\n",
      " 54%|█████▍    | 54/100 [00:25<00:21,  2.11it/s]\u001b[A\n",
      " 55%|█████▌    | 55/100 [00:26<00:21,  2.13it/s]\u001b[A\n",
      " 56%|█████▌    | 56/100 [00:26<00:20,  2.10it/s]\u001b[A\n",
      " 57%|█████▋    | 57/100 [00:27<00:20,  2.09it/s]\u001b[A\n",
      " 58%|█████▊    | 58/100 [00:27<00:20,  2.07it/s]\u001b[A\n",
      " 59%|█████▉    | 59/100 [00:28<00:19,  2.05it/s]\u001b[A\n",
      " 60%|██████    | 60/100 [00:28<00:19,  2.03it/s]\u001b[A\n",
      " 61%|██████    | 61/100 [00:29<00:19,  2.02it/s]\u001b[A\n",
      " 62%|██████▏   | 62/100 [00:29<00:18,  2.03it/s]\u001b[A\n",
      " 63%|██████▎   | 63/100 [00:30<00:18,  2.04it/s]\u001b[A\n",
      " 64%|██████▍   | 64/100 [00:30<00:17,  2.05it/s]\u001b[A\n",
      " 65%|██████▌   | 65/100 [00:31<00:16,  2.06it/s]\u001b[A\n",
      " 66%|██████▌   | 66/100 [00:31<00:16,  2.06it/s]\u001b[A\n",
      " 67%|██████▋   | 67/100 [00:32<00:16,  2.04it/s]\u001b[A\n",
      " 68%|██████▊   | 68/100 [00:32<00:15,  2.04it/s]\u001b[A\n",
      " 69%|██████▉   | 69/100 [00:33<00:15,  2.04it/s]\u001b[A\n",
      " 70%|███████   | 70/100 [00:33<00:14,  2.04it/s]\u001b[A\n",
      " 71%|███████   | 71/100 [00:34<00:14,  2.05it/s]\u001b[A\n",
      " 72%|███████▏  | 72/100 [00:34<00:13,  2.05it/s]\u001b[A\n",
      " 73%|███████▎  | 73/100 [00:35<00:13,  2.05it/s]\u001b[A\n",
      " 74%|███████▍  | 74/100 [00:35<00:12,  2.06it/s]\u001b[A\n",
      " 75%|███████▌  | 75/100 [00:36<00:12,  2.07it/s]\u001b[A\n",
      " 76%|███████▌  | 76/100 [00:36<00:11,  2.09it/s]\u001b[A\n",
      " 77%|███████▋  | 77/100 [00:37<00:11,  2.09it/s]\u001b[A\n",
      " 78%|███████▊  | 78/100 [00:37<00:10,  2.10it/s]\u001b[A\n",
      " 79%|███████▉  | 79/100 [00:38<00:10,  2.09it/s]\u001b[A\n",
      " 80%|████████  | 80/100 [00:38<00:09,  2.10it/s]\u001b[A\n",
      " 81%|████████  | 81/100 [00:39<00:09,  2.07it/s]\u001b[A\n",
      " 82%|████████▏ | 82/100 [00:39<00:08,  2.06it/s]\u001b[A\n",
      " 83%|████████▎ | 83/100 [00:40<00:08,  2.05it/s]\u001b[A\n",
      " 84%|████████▍ | 84/100 [00:40<00:07,  2.05it/s]\u001b[A\n",
      " 85%|████████▌ | 85/100 [00:41<00:07,  2.05it/s]\u001b[A\n",
      " 86%|████████▌ | 86/100 [00:41<00:06,  2.06it/s]\u001b[A\n",
      " 87%|████████▋ | 87/100 [00:41<00:06,  2.10it/s]\u001b[A\n",
      " 88%|████████▊ | 88/100 [00:42<00:05,  2.15it/s]\u001b[A\n",
      " 89%|████████▉ | 89/100 [00:42<00:05,  2.13it/s]\u001b[A\n",
      " 90%|█████████ | 90/100 [00:43<00:04,  2.12it/s]\u001b[A\n",
      " 91%|█████████ | 91/100 [00:43<00:04,  2.12it/s]\u001b[A\n",
      " 92%|█████████▏| 92/100 [00:44<00:03,  2.10it/s]\u001b[A\n",
      " 93%|█████████▎| 93/100 [00:44<00:03,  2.09it/s]\u001b[A\n",
      " 94%|█████████▍| 94/100 [00:45<00:02,  2.06it/s]\u001b[A\n",
      " 95%|█████████▌| 95/100 [00:45<00:02,  2.08it/s]\u001b[A\n",
      " 96%|█████████▌| 96/100 [00:46<00:01,  2.09it/s]\u001b[A\n",
      " 97%|█████████▋| 97/100 [00:46<00:01,  2.10it/s]\u001b[A\n",
      " 98%|█████████▊| 98/100 [00:47<00:00,  2.15it/s]\u001b[A\n",
      " 99%|█████████▉| 99/100 [00:47<00:00,  2.14it/s]\u001b[A\n",
      "100%|██████████| 100/100 [00:48<00:00,  2.18it/s]\u001b[A\n",
      "\u001b[A"
     ]
    },
    {
     "name": "stdout",
     "output_type": "stream",
     "text": [
      "--- training done ---\n",
      "testing accuracy: 0.52\n"
     ]
    },
    {
     "data": {
      "image/png": "[encoded data removed]",
      "text/plain": [
       "<Figure size 432x288 with 1 Axes>"
      ]
     },
     "metadata": {
      "needs_background": "light"
     },
     "output_type": "display_data"
    },
    {
     "data": {
      "image/png": "[encoded data removed]",
      "text/plain": [
       "<Figure size 432x288 with 1 Axes>"
      ]
     },
     "metadata": {
      "needs_background": "light"
     },
     "output_type": "display_data"
    }
   ],
   "source": [
    "from tqdm import tqdm\n",
    "train_loss_list, valid_loss_list = [], []\n",
    "train_acc_list, valid_acc_list = [], []\n",
    "#-------------------------------------------------------sess-------------------------------------------------------\n",
    "with tf.Session() as sess:\n",
    "    # we have to initalize all variables (e.g. weights/biases) at beginning.\n",
    "    sess.run([tf.global_variables_initializer()])\n",
    "    # writer = tf.summary.FileWriter(\"./graph/\", sess.graph)\n",
    "    for i in tqdm(range(epochs)):\n",
    "        # get batch \n",
    "        total_batch = int(np.floor(len(X_train) / batch_size)) \n",
    "        # 透過batch size 與資料量計算有幾個batch， just drop out last few samples ...\n",
    "        \n",
    "        train_loss_collector, train_acc_collector = [], []\n",
    "        for j in np.arange(total_batch):\n",
    "            #-------------------------------取一個batch 的資料-------------------------------------\n",
    "            batch_idx_start = j * batch_size\n",
    "            batch_idx_stop = (j+1) * batch_size\n",
    "\n",
    "            x_batch = X_train[batch_idx_start : batch_idx_stop] \n",
    "            y_batch = y_train[batch_idx_start : batch_idx_stop]\n",
    "            #------------------------------------------------------------------------------------\n",
    "            this_loss, this_acc, _ = sess.run([loss, compute_acc, train_step], \n",
    "                                    feed_dict = {x_input: x_batch,\n",
    "                                                 y_out: y_batch})\n",
    "            # run上一個cell最後三個tensor得到loss值,正確率,和一次優化(得到新的weight 和biases)\n",
    "            train_loss_collector.append(this_loss) #記錄每個batch的loss\n",
    "            train_acc_collector.append(this_acc)   #記錄每個batch的acc\n",
    "            \n",
    "        # do validation at the end of each epoch(run完一個epoch後，計算一下validation acc 與 validation loss)\n",
    "        valid_acc, valid_loss = sess.run([compute_acc, loss],\n",
    "                                         feed_dict = {x_input: X_val,\n",
    "                                                      y_out : y_val})\n",
    "        valid_loss_list.append(valid_loss) #記錄validation loss\n",
    "        valid_acc_list.append(valid_acc)   #記錄validation acc\n",
    "        train_loss_list.append(np.mean(train_loss_collector)) #記錄每個epoch 平均 loss\n",
    "        train_acc_list.append(np.mean(train_acc_collector))   #記錄每個epoch 平均 acc\n",
    "\n",
    "        # at the end of each epoch, shuffle the data 重新排列資料並進入下一個i(epochs)\n",
    "        X_train, y_train = shuffle(X_train, y_train)\n",
    "    # At the end of the training, do testing set\n",
    "    #test_acc, test_loss = sess.run([compute_acc, loss],\n",
    "                                    #feed_dict = {x_input: x_test,\n",
    "                                                 #y_out : y_test})\n",
    "            \n",
    "#將test data轉乘CSV輸出\n",
    "\n",
    "    test_pred = sess.run(output, feed_dict={x_input:test_set})\n",
    "    result = np.argmax(test_pred, axis =1)\n",
    "    out = list(zip(id_test, result))\n",
    "    df = pd.DataFrame(data = out, columns=['ID','class'])\n",
    "    df.to_csv('result.csv', index =False, header = True)\n",
    "\n",
    "\n",
    "print('--- training done ---')\n",
    "print('testing accuracy: %.2f' % valid_acc_list[-1])\n",
    "#------------------------------------------------------plot----------------------------------------------------------\n",
    "plt.plot(np.arange(len(train_loss_list)), train_loss_list, 'b', label = 'train')\n",
    "plt.plot(np.arange(len(valid_loss_list)), valid_loss_list, 'r', label = 'valid')\n",
    "plt.legend()\n",
    "plt.title(\"Loss\")\n",
    "plt.show()\n",
    "\n",
    "plt.plot(np.arange(len(train_acc_list)), train_acc_list, 'b', label = 'train')\n",
    "plt.plot(np.arange(len(valid_acc_list)), valid_acc_list, 'r', label = 'valid')\n",
    "plt.legend(loc = 4)\n",
    "plt.title(\"Accuracy\")\n",
    "plt.show()"
   ]
  },
  {
   "cell_type": "code",
   "execution_count": null,
   "metadata": {},
   "outputs": [],
   "source": []
  }
 ],
 "metadata": {
  "kernelspec": {
   "display_name": "Python 3",
   "language": "python",
   "name": "python3"
  },
  "language_info": {
   "codemirror_mode": {
    "name": "ipython",
    "version": 3
   },
   "file_extension": ".py",
   "mimetype": "text/x-python",
   "name": "python",
   "nbconvert_exporter": "python",
   "pygments_lexer": "ipython3",
   "version": "3.6.6"
  }
 },
 "nbformat": 4,
 "nbformat_minor": 2
}
