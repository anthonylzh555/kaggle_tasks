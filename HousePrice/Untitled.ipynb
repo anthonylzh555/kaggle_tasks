{
 "cells": [
  {
   "cell_type": "code",
   "execution_count": 12,
   "metadata": {},
   "outputs": [],
   "source": [
    "import numpy as np\n",
    "import pandas as pd\n",
    "import matplotlib.pyplot as plt\n",
    "%matplotlib inline\n",
    "\n",
    "training_set = pd.read_csv('Data/train.csv')\n",
    "testing_set = pd.read_csv('Data/test.csv')"
   ]
  },
  {
   "cell_type": "code",
   "execution_count": 13,
   "metadata": {},
   "outputs": [
    {
     "name": "stdout",
     "output_type": "stream",
     "text": [
      "(1460, 81)\n",
      "(1459, 80)\n"
     ]
    }
   ],
   "source": [
    "print(training_set.shape)\n",
    "print(testing_set.shape)"
   ]
  },
  {
   "cell_type": "code",
   "execution_count": 14,
   "metadata": {},
   "outputs": [],
   "source": [
    "#training_set.head()"
   ]
  },
  {
   "cell_type": "code",
   "execution_count": 15,
   "metadata": {},
   "outputs": [],
   "source": [
    "#testing_set.head()"
   ]
  },
  {
   "cell_type": "code",
   "execution_count": 16,
   "metadata": {},
   "outputs": [],
   "source": [
    "##training_set.isna().sum()  #缺失值觀察"
   ]
  },
  {
   "cell_type": "code",
   "execution_count": 17,
   "metadata": {},
   "outputs": [],
   "source": [
    "new_training_set = training_set.fillna(0)"
   ]
  },
  {
   "cell_type": "code",
   "execution_count": 18,
   "metadata": {},
   "outputs": [],
   "source": [
    "##testing_set.isna().sum() "
   ]
  },
  {
   "cell_type": "code",
   "execution_count": 19,
   "metadata": {},
   "outputs": [],
   "source": [
    "new_testing_set = testing_set.fillna(0)"
   ]
  },
  {
   "cell_type": "code",
   "execution_count": 20,
   "metadata": {},
   "outputs": [],
   "source": [
    "target = training_set.SalePrice\n",
    "new_training_set.drop('SalePrice', axis=1, inplace=True)"
   ]
  },
  {
   "cell_type": "code",
   "execution_count": 21,
   "metadata": {},
   "outputs": [
    {
     "data": {
      "text/plain": [
       "0    208500\n",
       "1    181500\n",
       "2    223500\n",
       "3    140000\n",
       "4    250000\n",
       "Name: SalePrice, dtype: int64"
      ]
     },
     "execution_count": 21,
     "metadata": {},
     "output_type": "execute_result"
    }
   ],
   "source": [
    "target.head(5)"
   ]
  },
  {
   "cell_type": "code",
   "execution_count": 22,
   "metadata": {},
   "outputs": [
    {
     "name": "stdout",
     "output_type": "stream",
     "text": [
      "(1460, 80)\n",
      "(1459, 80)\n"
     ]
    }
   ],
   "source": [
    "print(new_training_set.shape)\n",
    "print(new_testing_set.shape)"
   ]
  },
  {
   "cell_type": "code",
   "execution_count": 23,
   "metadata": {},
   "outputs": [],
   "source": [
    "new_training_set = new_training_set.drop(['MSZoning', 'Street', 'Alley', 'LotShape', 'LandContour', 'Utilities'\n",
    "                   , 'LotConfig', 'LandSlope', 'Neighborhood', 'Condition1', 'Condition2'\n",
    "                   , 'BldgType', 'HouseStyle', 'RoofStyle', 'RoofMatl', 'Exterior1st', 'Exterior2nd'\n",
    "                   , 'MasVnrType', 'ExterQual', 'ExterCond', 'Foundation', 'BsmtQual', 'BsmtCond'\n",
    "                   , 'BsmtExposure', 'BsmtFinType1', 'BsmtFinType2', 'Heating', 'HeatingQC', 'CentralAir'\n",
    "                   , 'Electrical', 'KitchenQual', 'Functional', 'FireplaceQu', 'GarageType', 'GarageFinish'\n",
    "                   , 'GarageQual', 'GarageCond', 'PavedDrive', 'PoolQC', 'Fence', 'MiscFeature'\n",
    "                   , 'SaleType', 'SaleCondition'], 1)"
   ]
  },
  {
   "cell_type": "code",
   "execution_count": 24,
   "metadata": {},
   "outputs": [],
   "source": [
    "new_testing_set = new_testing_set.drop(['MSZoning', 'Street', 'Alley', 'LotShape', 'LandContour', 'Utilities'\n",
    "                   , 'LotConfig', 'LandSlope', 'Neighborhood', 'Condition1', 'Condition2'\n",
    "                   , 'BldgType', 'HouseStyle', 'RoofStyle', 'RoofMatl', 'Exterior1st', 'Exterior2nd'\n",
    "                   , 'MasVnrType', 'ExterQual', 'ExterCond', 'Foundation', 'BsmtQual', 'BsmtCond'\n",
    "                   , 'BsmtExposure', 'BsmtFinType1', 'BsmtFinType2', 'Heating', 'HeatingQC', 'CentralAir'\n",
    "                   , 'Electrical', 'KitchenQual', 'Functional', 'FireplaceQu', 'GarageType', 'GarageFinish'\n",
    "                   , 'GarageQual', 'GarageCond', 'PavedDrive', 'PoolQC', 'Fence', 'MiscFeature'\n",
    "                   , 'SaleType', 'SaleCondition'], 1)"
   ]
  },
  {
   "cell_type": "code",
   "execution_count": 25,
   "metadata": {},
   "outputs": [
    {
     "name": "stdout",
     "output_type": "stream",
     "text": [
      "(1460, 37)\n",
      "(1459, 37)\n"
     ]
    }
   ],
   "source": [
    "print(new_training_set.shape)\n",
    "print(new_testing_set.shape)"
   ]
  },
  {
   "cell_type": "code",
   "execution_count": 26,
   "metadata": {},
   "outputs": [],
   "source": [
    "##from sklearn import preprocessing\n",
    "##le = preprocessing.LabelEncoder()\n",
    "##new_rad = le.fit_transform(training_set.rad)\n",
    "##training_set.rad = new_rad"
   ]
  },
  {
   "cell_type": "markdown",
   "metadata": {},
   "source": [
    "target = training_set.LotFrontage\n",
    "training_set.drop('LotFrontage', axis=1, inplace=True)\n",
    "\n",
    "target = training_set.Alley\n",
    "training_set.drop('Alley', axis=1, inplace=True)\n",
    "\n",
    "target = training_set.FireplaceQu\n",
    "training_set.drop('FireplaceQu', axis=1, inplace=True)\n",
    "\n",
    "target = training_set.GarageType\n",
    "training_set.drop('GarageType', axis=1, inplace=True)\n",
    "\n",
    "target = training_set.GarageYrBlt\n",
    "training_set.drop('GarageYrBlt', axis=1, inplace=True)\n",
    "\n",
    "target = training_set.GarageFinish\n",
    "training_set.drop('GarageFinish', axis=1, inplace=True)\n",
    "\n",
    "target = training_set.GarageQual\n",
    "training_set.drop('GarageQual', axis=1, inplace=True)\n",
    "\n",
    "target = training_set.GarageCond\n",
    "training_set.drop('GarageCond', axis=1, inplace=True)\n",
    "\n",
    "target = training_set.PoolQC\n",
    "training_set.drop('PoolQC', axis=1, inplace=True)\n",
    "\n",
    "target = training_set.Fence\n",
    "training_set.drop('Fence', axis=1, inplace=True)\n",
    "\n",
    "target = training_set.MiscFeature\n",
    "training_set.drop('MiscFeature', axis=1, inplace=True)\n",
    "\n",
    "target = training_set.MasVnrType\n",
    "training_set.drop('MasVnrType', axis=1, inplace=True)\n",
    "\n",
    "target = training_set.BsmtCond\n",
    "training_set.drop('BsmtCond', axis=1, inplace=True)\n",
    "\n",
    "target = training_set.BsmtExposure\n",
    "training_set.drop('BsmtExposure', axis=1, inplace=True)\n",
    "\n",
    "target = training_set.BsmtFinType1\n",
    "training_set.drop('BsmtFinType1', axis=1, inplace=True)\n",
    "\n",
    "target = training_set.BsmtFinType2\n",
    "training_set.drop('BsmtFinType2', axis=1, inplace=True)\n",
    "\n",
    "target = training_set.Electrical\n",
    "training_set.drop('Electrical', axis=1, inplace=True)\n",
    "\n",
    "target = training_set.Exterior1st\n",
    "training_set.drop('Exterior1st', axis=1, inplace=True)\n",
    "\n",
    "target = training_set.Exterior2nd\n",
    "training_set.drop('Exterior2nd', axis=1, inplace=True)\n",
    "\n",
    "target = training_set.Foundation\n",
    "training_set.drop('Foundation', axis=1, inplace=True)\n",
    "\n",
    "target = training_set.BsmtQual\n",
    "training_set.drop('BsmtQual', axis=1, inplace=True)\n",
    "\n",
    "target = training_set.MSZoning\n",
    "training_set.drop('MSZoning', axis=1, inplace=True)\n",
    "\n",
    "target = training_set.Street\n",
    "training_set.drop('Street', axis=1, inplace=True)\n",
    "\n",
    "target = training_set.LotShape\n",
    "training_set.drop('LotShape', axis=1, inplace=True)\n",
    "\n",
    "target = training_set.LandContour\n",
    "training_set.drop('LandContour', axis=1, inplace=True)\n",
    "\n",
    "target = training_set.Utilities\n",
    "training_set.drop('Utilities', axis=1, inplace=True)\n",
    "\n",
    "target = training_set.LotConfig\n",
    "training_set.drop('LotConfig', axis=1, inplace=True)\n",
    "\n",
    "target = training_set.LandSlope\n",
    "training_set.drop('LandSlope', axis=1, inplace=True)\n",
    "\n",
    "target = training_set.Neighborhood\n",
    "training_set.drop('Neighborhood', axis=1, inplace=True)\n",
    "\n",
    "target = training_set.Condition1\n",
    "training_set.drop('Condition1', axis=1, inplace=True)\n",
    "\n",
    "target = training_set.Condition2\n",
    "training_set.drop('Condition2', axis=1, inplace=True)\n",
    "\n",
    "target = training_set.BldgType\n",
    "training_set.drop('BldgType', axis=1, inplace=True)\n",
    "\n",
    "target = training_set.HouseStyle\n",
    "training_set.drop('HouseStyle', axis=1, inplace=True)\n",
    "\n",
    "target = training_set.RoofStyle\n",
    "training_set.drop('RoofStyle', axis=1, inplace=True)\n",
    "\n",
    "target = training_set.RoofMatl\n",
    "training_set.drop('RoofMatl', axis=1, inplace=True)\n",
    "\n",
    "target = training_set.ExterQual\n",
    "training_set.drop('ExterQual', axis=1, inplace=True)\n",
    "\n",
    "target = training_set.ExterCond\n",
    "training_set.drop('ExterCond', axis=1, inplace=True)\n",
    "\n",
    "target = training_set.HeatingQC\n",
    "training_set.drop('HeatingQC', axis=1, inplace=True)\n",
    "\n",
    "target = training_set.CentralAir\n",
    "training_set.drop('CentralAir', axis=1, inplace=True)\n",
    "\n",
    "target = training_set.KitchenQual\n",
    "training_set.drop('KitchenQual', axis=1, inplace=True)\n",
    "\n",
    "target = training_set.Functional \n",
    "training_set.drop('Functional', axis=1, inplace=True)\n",
    "\n",
    "target = training_set.PavedDrive\n",
    "training_set.drop('PavedDrive', axis=1, inplace=True)\n",
    "\n",
    "target = training_set.SaleType\n",
    "training_set.drop('SaleType', axis=1, inplace=True)\n",
    "\n",
    "target = training_set.SaleCondition\n",
    "training_set.drop('SaleCondition', axis=1, inplace=True)\n",
    "\n",
    "target = training_set.Heating\n",
    "training_set.drop('Heating', axis=1, inplace=True)"
   ]
  },
  {
   "cell_type": "markdown",
   "metadata": {},
   "source": [
    "target = training_set.SalePrice\n",
    "training_set.drop('SalePrice', axis=1, inplace=True)\n",
    "\n",
    "target = training_set.LotArea\n",
    "training_set.drop('LotArea', axis=1, inplace=True)\n"
   ]
  },
  {
   "cell_type": "markdown",
   "metadata": {},
   "source": [
    "# Training"
   ]
  },
  {
   "cell_type": "code",
   "execution_count": 27,
   "metadata": {},
   "outputs": [
    {
     "name": "stdout",
     "output_type": "stream",
     "text": [
      "(1460, 37)\n",
      "(1459, 37)\n"
     ]
    }
   ],
   "source": [
    "print(new_training_set.shape)\n",
    "print(new_testing_set.shape)"
   ]
  },
  {
   "cell_type": "code",
   "execution_count": 28,
   "metadata": {},
   "outputs": [
    {
     "name": "stdout",
     "output_type": "stream",
     "text": [
      "(1168, 37) (292, 37)\n",
      "(1168,) (292,)\n"
     ]
    }
   ],
   "source": [
    "from sklearn.model_selection import train_test_split\n",
    "\n",
    "X_train, X_valid, y_train, y_valid = train_test_split(new_training_set, target, test_size=0.2, random_state= 12, shuffle=True)\n",
    "print(X_train.shape,X_valid.shape)\n",
    "print(y_train.shape,y_valid.shape)"
   ]
  },
  {
   "cell_type": "code",
   "execution_count": 29,
   "metadata": {},
   "outputs": [
    {
     "name": "stdout",
     "output_type": "stream",
     "text": [
      "R2 score:0.79\n"
     ]
    }
   ],
   "source": [
    "from sklearn.linear_model import LinearRegression #選擇模型\n",
    "from sklearn import metrics\n",
    "\n",
    "model1 = LinearRegression()#建立模型\n",
    "model1.fit(X_train,y_train)#訓練模型\n",
    "pred = model1.predict(X_valid)#模型預測\n",
    "print('R2 score:%.2f'%metrics.r2_score(y_valid, pred))"
   ]
  },
  {
   "cell_type": "code",
   "execution_count": 30,
   "metadata": {},
   "outputs": [
    {
     "name": "stdout",
     "output_type": "stream",
     "text": [
      "train evaluation :\n",
      "R2 score:-0.06\n"
     ]
    }
   ],
   "source": [
    "from sklearn import svm\n",
    "\n",
    "model2 = svm.SVR(epsilon=0.1)\n",
    "model2.fit(X_train, y_train) \n",
    "pred = model2.predict(X_valid)\n",
    "print('train evaluation :')\n",
    "print('R2 score:%.2f'%metrics.r2_score(y_valid, pred))\n",
    "\n",
    "#使用linear regression"
   ]
  },
  {
   "cell_type": "code",
   "execution_count": 138,
   "metadata": {},
   "outputs": [
    {
     "name": "stdout",
     "output_type": "stream",
     "text": [
      "train evaluation :\n",
      "R2 score:0.72\n"
     ]
    }
   ],
   "source": [
    "from sklearn.ensemble import RandomForestRegressor\n",
    "\n",
    "model3 = RandomForestRegressor(max_depth=3, random_state=37,\n",
    "                             n_estimators=100)\n",
    "model3.fit(X_train, y_train)\n",
    "pred = model3.predict(X_valid)\n",
    "print('train evaluation :')\n",
    "print('R2 score:%.2f'%metrics.r2_score(y_valid, pred))\n",
    "#random forest"
   ]
  },
  {
   "cell_type": "code",
   "execution_count": 139,
   "metadata": {},
   "outputs": [
    {
     "name": "stdout",
     "output_type": "stream",
     "text": [
      "train evaluation :\n",
      "R2 score:0.79\n"
     ]
    }
   ],
   "source": [
    "from sklearn.linear_model import Lasso,Ridge\n",
    "\n",
    "model4 = Lasso(alpha = 0.01)\n",
    "model4.fit(X_train,y_train)\n",
    "pred = model4.predict(X_valid)\n",
    "print('train evaluation :')\n",
    "print('R2 score:%.2f'%metrics.r2_score(y_valid, pred))\n",
    "#使用lasso驗證效果"
   ]
  },
  {
   "cell_type": "code",
   "execution_count": 140,
   "metadata": {},
   "outputs": [
    {
     "name": "stdout",
     "output_type": "stream",
     "text": [
      "train evaluation :\n",
      "R2 score:0.79\n"
     ]
    }
   ],
   "source": [
    "model5 = Ridge(alpha = 0.01)\n",
    "model5.fit(X_train,y_train)\n",
    "pred = model5.predict(X_valid)\n",
    "print('train evaluation :')\n",
    "print('R2 score:%.2f'%metrics.r2_score(y_valid, pred))\n",
    "#使用ridge驗證"
   ]
  },
  {
   "cell_type": "code",
   "execution_count": 141,
   "metadata": {},
   "outputs": [
    {
     "name": "stdout",
     "output_type": "stream",
     "text": [
      "(1168, 37) (292, 37)\n",
      "(1168,) (292,)\n"
     ]
    }
   ],
   "source": [
    "from sklearn.preprocessing import MinMaxScaler\n",
    "\n",
    "scaler = MinMaxScaler()\n",
    "the_better_data = scaler.fit_transform(new_training_set)\n",
    "X_train, X_valid, y_train, y_valid = train_test_split(the_better_data, target, test_size=0.2, random_state= 12, shuffle=True)\n",
    "print(X_train.shape,X_valid.shape)\n",
    "print(y_train.shape,y_valid.shape)"
   ]
  },
  {
   "cell_type": "code",
   "execution_count": 142,
   "metadata": {},
   "outputs": [
    {
     "name": "stdout",
     "output_type": "stream",
     "text": [
      "R2 score:0.79\n"
     ]
    }
   ],
   "source": [
    "model1 = LinearRegression()#建立模型\n",
    "model1.fit(X_train,y_train)#訓練模型\n",
    "pred = model1.predict(X_valid)#模型預測\n",
    "print('R2 score:%.2f'%metrics.r2_score(y_valid, pred))"
   ]
  },
  {
   "cell_type": "code",
   "execution_count": 143,
   "metadata": {},
   "outputs": [
    {
     "name": "stdout",
     "output_type": "stream",
     "text": [
      "train evaluation :\n",
      "R2 score:-0.06\n"
     ]
    }
   ],
   "source": [
    "model2 = svm.SVR(epsilon=0.1) ###SVR\n",
    "model2.fit(X_train, y_train) \n",
    "pred = model2.predict(X_valid)\n",
    "print('train evaluation :')\n",
    "print('R2 score:%.2f'%metrics.r2_score(y_valid, pred))"
   ]
  },
  {
   "cell_type": "code",
   "execution_count": 144,
   "metadata": {},
   "outputs": [
    {
     "name": "stdout",
     "output_type": "stream",
     "text": [
      "train evaluation :\n",
      "R2 score:0.72\n"
     ]
    }
   ],
   "source": [
    "model3 = RandomForestRegressor(max_depth=3, random_state=37,\n",
    "                             n_estimators=100)\n",
    "model3.fit(X_train, y_train)\n",
    "pred = model3.predict(X_valid)\n",
    "print('train evaluation :')\n",
    "print('R2 score:%.2f'%metrics.r2_score(y_valid, pred))"
   ]
  },
  {
   "cell_type": "code",
   "execution_count": 145,
   "metadata": {},
   "outputs": [
    {
     "name": "stdout",
     "output_type": "stream",
     "text": [
      "train evaluation :\n",
      "R2 score:0.79\n"
     ]
    }
   ],
   "source": [
    "model4 = Lasso(alpha = 0.01)\n",
    "model4.fit(X_train,y_train)\n",
    "pred = model4.predict(X_valid)\n",
    "print('train evaluation :')\n",
    "print('R2 score:%.2f'%metrics.r2_score(y_valid, pred))"
   ]
  },
  {
   "cell_type": "code",
   "execution_count": 146,
   "metadata": {},
   "outputs": [
    {
     "name": "stdout",
     "output_type": "stream",
     "text": [
      "train evaluation :\n",
      "R2 score:0.79\n"
     ]
    }
   ],
   "source": [
    "model5 = Ridge(alpha = 0.01)\n",
    "model5.fit(X_train,y_train)\n",
    "pred = model5.predict(X_valid)\n",
    "print('train evaluation :')\n",
    "print('R2 score:%.2f'%metrics.r2_score(y_valid, pred))"
   ]
  },
  {
   "cell_type": "code",
   "execution_count": 147,
   "metadata": {},
   "outputs": [
    {
     "name": "stdout",
     "output_type": "stream",
     "text": [
      "(1460, 37)\n",
      "(1459, 37)\n"
     ]
    }
   ],
   "source": [
    "print(new_training_set.shape)\n",
    "print(new_testing_set.shape)"
   ]
  },
  {
   "cell_type": "code",
   "execution_count": 150,
   "metadata": {},
   "outputs": [],
   "source": [
    "from sklearn.preprocessing import OneHotEncoder\n",
    "enc = OneHotEncoder()\n",
    "\n",
    "#new_YrSold = enc.fit_transform(new_testing_set.YrSold.values.reshape(-1,1)).toarray()\n",
    "#last_testing_set = pd.concat([new_testing_set, pd.DataFrame(new_YrSold)], axis=1).drop(['YrSold','Id'], axis=1)\n",
    "the_better_testing = scaler.fit_transform(new_testing_set)\n",
    "######\n",
    "result = model3.predict(the_better_testing)\n",
    "submit = pd.concat([new_testing_set.Id, pd.Series(result)], axis=1)\n",
    "submit.columns = ['Id', 'SalePrice']"
   ]
  },
  {
   "cell_type": "code",
   "execution_count": 151,
   "metadata": {},
   "outputs": [],
   "source": [
    "submit.to_csv('Finally.csv', index=False)"
   ]
  },
  {
   "cell_type": "code",
   "execution_count": null,
   "metadata": {},
   "outputs": [],
   "source": []
  },
  {
   "cell_type": "code",
   "execution_count": null,
   "metadata": {},
   "outputs": [],
   "source": []
  }
 ],
 "metadata": {
  "kernelspec": {
   "display_name": "Python 3",
   "language": "python",
   "name": "python3"
  },
  "language_info": {
   "codemirror_mode": {
    "name": "ipython",
    "version": 3
   },
   "file_extension": ".py",
   "mimetype": "text/x-python",
   "name": "python",
   "nbconvert_exporter": "python",
   "pygments_lexer": "ipython3",
   "version": "3.6.6"
  }
 },
 "nbformat": 4,
 "nbformat_minor": 2
}
