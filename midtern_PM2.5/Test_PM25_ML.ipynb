{
 "cells": [
  {
   "cell_type": "code",
   "execution_count": 54,
   "metadata": {},
   "outputs": [],
   "source": [
    "import numpy as np\n",
    "import pandas as pd\n",
    "import matplotlib.pyplot as plt\n",
    "%matplotlib inline\n",
    "\n",
    "training_set = pd.read_csv('PM25_train.csv')\n",
    "testing_set = pd.read_csv('PM25_test.csv')"
   ]
  },
  {
   "cell_type": "code",
   "execution_count": 55,
   "metadata": {},
   "outputs": [],
   "source": [
    "id_train = training_set.device_id\n",
    "id_test = testing_set.device_id"
   ]
  },
  {
   "cell_type": "code",
   "execution_count": 56,
   "metadata": {},
   "outputs": [
    {
     "name": "stdout",
     "output_type": "stream",
     "text": [
      "(1116554, 8)\n",
      "(41223, 7)\n"
     ]
    }
   ],
   "source": [
    "print(training_set.shape)\n",
    "print(testing_set.shape)"
   ]
  },
  {
   "cell_type": "code",
   "execution_count": 57,
   "metadata": {},
   "outputs": [
    {
     "data": {
      "text/html": [
       "<div>\n",
       "<style scoped>\n",
       "    .dataframe tbody tr th:only-of-type {\n",
       "        vertical-align: middle;\n",
       "    }\n",
       "\n",
       "    .dataframe tbody tr th {\n",
       "        vertical-align: top;\n",
       "    }\n",
       "\n",
       "    .dataframe thead th {\n",
       "        text-align: right;\n",
       "    }\n",
       "</style>\n",
       "<table border=\"1\" class=\"dataframe\">\n",
       "  <thead>\n",
       "    <tr style=\"text-align: right;\">\n",
       "      <th></th>\n",
       "      <th>device_id</th>\n",
       "      <th>Date</th>\n",
       "      <th>Time</th>\n",
       "      <th>PM2.5</th>\n",
       "      <th>Temperature</th>\n",
       "      <th>Humidity</th>\n",
       "      <th>lat</th>\n",
       "      <th>lon</th>\n",
       "    </tr>\n",
       "  </thead>\n",
       "  <tbody>\n",
       "    <tr>\n",
       "      <th>0</th>\n",
       "      <td>28C2DDDD415C</td>\n",
       "      <td>2017-01-01</td>\n",
       "      <td>08:03:09</td>\n",
       "      <td>21.0</td>\n",
       "      <td>24.12</td>\n",
       "      <td>83.0</td>\n",
       "      <td>23.741</td>\n",
       "      <td>120.755</td>\n",
       "    </tr>\n",
       "    <tr>\n",
       "      <th>1</th>\n",
       "      <td>28C2DDDD415C</td>\n",
       "      <td>2017-01-01</td>\n",
       "      <td>08:03:09</td>\n",
       "      <td>21.0</td>\n",
       "      <td>24.12</td>\n",
       "      <td>83.0</td>\n",
       "      <td>23.741</td>\n",
       "      <td>120.755</td>\n",
       "    </tr>\n",
       "    <tr>\n",
       "      <th>2</th>\n",
       "      <td>28C2DDDD415C</td>\n",
       "      <td>2017-01-01</td>\n",
       "      <td>08:03:09</td>\n",
       "      <td>21.0</td>\n",
       "      <td>24.12</td>\n",
       "      <td>83.0</td>\n",
       "      <td>23.741</td>\n",
       "      <td>120.755</td>\n",
       "    </tr>\n",
       "    <tr>\n",
       "      <th>3</th>\n",
       "      <td>28C2DDDD415C</td>\n",
       "      <td>2017-01-01</td>\n",
       "      <td>08:09:04</td>\n",
       "      <td>20.0</td>\n",
       "      <td>24.12</td>\n",
       "      <td>82.0</td>\n",
       "      <td>23.741</td>\n",
       "      <td>120.755</td>\n",
       "    </tr>\n",
       "    <tr>\n",
       "      <th>4</th>\n",
       "      <td>28C2DDDD415C</td>\n",
       "      <td>2017-01-01</td>\n",
       "      <td>08:09:04</td>\n",
       "      <td>20.0</td>\n",
       "      <td>24.12</td>\n",
       "      <td>82.0</td>\n",
       "      <td>23.741</td>\n",
       "      <td>120.755</td>\n",
       "    </tr>\n",
       "  </tbody>\n",
       "</table>\n",
       "</div>"
      ],
      "text/plain": [
       "      device_id        Date      Time  PM2.5  Temperature  Humidity     lat  \\\n",
       "0  28C2DDDD415C  2017-01-01  08:03:09   21.0        24.12      83.0  23.741   \n",
       "1  28C2DDDD415C  2017-01-01  08:03:09   21.0        24.12      83.0  23.741   \n",
       "2  28C2DDDD415C  2017-01-01  08:03:09   21.0        24.12      83.0  23.741   \n",
       "3  28C2DDDD415C  2017-01-01  08:09:04   20.0        24.12      82.0  23.741   \n",
       "4  28C2DDDD415C  2017-01-01  08:09:04   20.0        24.12      82.0  23.741   \n",
       "\n",
       "       lon  \n",
       "0  120.755  \n",
       "1  120.755  \n",
       "2  120.755  \n",
       "3  120.755  \n",
       "4  120.755  "
      ]
     },
     "execution_count": 57,
     "metadata": {},
     "output_type": "execute_result"
    }
   ],
   "source": [
    "training_set.head()"
   ]
  },
  {
   "cell_type": "code",
   "execution_count": 58,
   "metadata": {},
   "outputs": [],
   "source": [
    "#testing_set.head()"
   ]
  },
  {
   "cell_type": "code",
   "execution_count": 59,
   "metadata": {},
   "outputs": [],
   "source": [
    "target = training_set.iloc[:,3]  ##名稱有小數點\n",
    "#training_set.drop('PM2.5', axis=1, inplace=True)\n",
    "training_set.drop(['device_id','PM2.5'], axis=1, inplace=True)\n",
    "testing_set.drop(['device_id'], axis=1, inplace=True)"
   ]
  },
  {
   "cell_type": "code",
   "execution_count": 60,
   "metadata": {},
   "outputs": [
    {
     "data": {
      "text/plain": [
       "0    21.0\n",
       "1    21.0\n",
       "2    21.0\n",
       "3    20.0\n",
       "4    20.0\n",
       "Name: PM2.5, dtype: float64"
      ]
     },
     "execution_count": 60,
     "metadata": {},
     "output_type": "execute_result"
    }
   ],
   "source": [
    "target.head(5)"
   ]
  },
  {
   "cell_type": "code",
   "execution_count": 61,
   "metadata": {},
   "outputs": [
    {
     "name": "stdout",
     "output_type": "stream",
     "text": [
      "(1116554, 6)\n",
      "(41223, 6)\n"
     ]
    }
   ],
   "source": [
    "print(training_set.shape)\n",
    "print(testing_set.shape)"
   ]
  },
  {
   "cell_type": "code",
   "execution_count": 62,
   "metadata": {},
   "outputs": [
    {
     "name": "stderr",
     "output_type": "stream",
     "text": [
      "/opt/conda/lib/python3.6/site-packages/sklearn/utils/validation.py:475: DataConversionWarning: Data with input dtype int64 was converted to float64 by MinMaxScaler.\n",
      "  warnings.warn(msg, DataConversionWarning)\n"
     ]
    }
   ],
   "source": [
    "from sklearn import preprocessing\n",
    "le = preprocessing.LabelEncoder()\n",
    "\n",
    "new_Date = le.fit_transform(training_set.Date)\n",
    "training_set.Date = new_Date\n",
    "\n",
    "new_Time = le.fit_transform(training_set.Time)\n",
    "training_set.Time = new_Time\n",
    "\n",
    "from sklearn.preprocessing import MinMaxScaler\n",
    "scaler = MinMaxScaler()\n",
    "training_set['Time'] = scaler.fit_transform(training_set['Time'].values.reshape(-1,1))"
   ]
  },
  {
   "cell_type": "code",
   "execution_count": 63,
   "metadata": {},
   "outputs": [
    {
     "data": {
      "text/html": [
       "<div>\n",
       "<style scoped>\n",
       "    .dataframe tbody tr th:only-of-type {\n",
       "        vertical-align: middle;\n",
       "    }\n",
       "\n",
       "    .dataframe tbody tr th {\n",
       "        vertical-align: top;\n",
       "    }\n",
       "\n",
       "    .dataframe thead th {\n",
       "        text-align: right;\n",
       "    }\n",
       "</style>\n",
       "<table border=\"1\" class=\"dataframe\">\n",
       "  <thead>\n",
       "    <tr style=\"text-align: right;\">\n",
       "      <th></th>\n",
       "      <th>Date</th>\n",
       "      <th>Time</th>\n",
       "      <th>Temperature</th>\n",
       "      <th>Humidity</th>\n",
       "      <th>lat</th>\n",
       "      <th>lon</th>\n",
       "    </tr>\n",
       "  </thead>\n",
       "  <tbody>\n",
       "    <tr>\n",
       "      <th>0</th>\n",
       "      <td>0</td>\n",
       "      <td>0.335525</td>\n",
       "      <td>24.12</td>\n",
       "      <td>83.0</td>\n",
       "      <td>23.741</td>\n",
       "      <td>120.755</td>\n",
       "    </tr>\n",
       "    <tr>\n",
       "      <th>1</th>\n",
       "      <td>0</td>\n",
       "      <td>0.335525</td>\n",
       "      <td>24.12</td>\n",
       "      <td>83.0</td>\n",
       "      <td>23.741</td>\n",
       "      <td>120.755</td>\n",
       "    </tr>\n",
       "    <tr>\n",
       "      <th>2</th>\n",
       "      <td>0</td>\n",
       "      <td>0.335525</td>\n",
       "      <td>24.12</td>\n",
       "      <td>83.0</td>\n",
       "      <td>23.741</td>\n",
       "      <td>120.755</td>\n",
       "    </tr>\n",
       "    <tr>\n",
       "      <th>3</th>\n",
       "      <td>0</td>\n",
       "      <td>0.339634</td>\n",
       "      <td>24.12</td>\n",
       "      <td>82.0</td>\n",
       "      <td>23.741</td>\n",
       "      <td>120.755</td>\n",
       "    </tr>\n",
       "    <tr>\n",
       "      <th>4</th>\n",
       "      <td>0</td>\n",
       "      <td>0.339634</td>\n",
       "      <td>24.12</td>\n",
       "      <td>82.0</td>\n",
       "      <td>23.741</td>\n",
       "      <td>120.755</td>\n",
       "    </tr>\n",
       "  </tbody>\n",
       "</table>\n",
       "</div>"
      ],
      "text/plain": [
       "   Date      Time  Temperature  Humidity     lat      lon\n",
       "0     0  0.335525        24.12      83.0  23.741  120.755\n",
       "1     0  0.335525        24.12      83.0  23.741  120.755\n",
       "2     0  0.335525        24.12      83.0  23.741  120.755\n",
       "3     0  0.339634        24.12      82.0  23.741  120.755\n",
       "4     0  0.339634        24.12      82.0  23.741  120.755"
      ]
     },
     "execution_count": 63,
     "metadata": {},
     "output_type": "execute_result"
    }
   ],
   "source": [
    "training_set.head()"
   ]
  },
  {
   "cell_type": "markdown",
   "metadata": {},
   "source": [
    "# Training"
   ]
  },
  {
   "cell_type": "code",
   "execution_count": 64,
   "metadata": {},
   "outputs": [
    {
     "name": "stdout",
     "output_type": "stream",
     "text": [
      "(1116554, 6)\n",
      "(41223, 6)\n"
     ]
    }
   ],
   "source": [
    "print(training_set.shape)\n",
    "print(testing_set.shape)"
   ]
  },
  {
   "cell_type": "code",
   "execution_count": 65,
   "metadata": {},
   "outputs": [
    {
     "name": "stdout",
     "output_type": "stream",
     "text": [
      "(893243, 6) (223311, 6)\n",
      "(893243,) (223311,)\n"
     ]
    }
   ],
   "source": [
    "from sklearn.model_selection import train_test_split\n",
    "\n",
    "X_train, X_valid, y_train, y_valid = train_test_split(training_set, target, test_size=0.2, random_state= 12, shuffle=False)\n",
    "print(X_train.shape,X_valid.shape)\n",
    "print(y_train.shape,y_valid.shape)"
   ]
  },
  {
   "cell_type": "code",
   "execution_count": 66,
   "metadata": {},
   "outputs": [],
   "source": [
    "#training_set.head()"
   ]
  },
  {
   "cell_type": "code",
   "execution_count": 67,
   "metadata": {},
   "outputs": [
    {
     "name": "stdout",
     "output_type": "stream",
     "text": [
      "train evaluation :\n",
      "R2 score:0.13\n"
     ]
    }
   ],
   "source": [
    "from sklearn.linear_model import LinearRegression #選擇模型\n",
    "from sklearn import metrics\n",
    "\n",
    "model1 = LinearRegression()#建立模型\n",
    "model1.fit(X_train,y_train)#訓練模型\n",
    "print('train evaluation :')\n",
    "pred = model1.predict(X_valid)#模型預測\n",
    "print('R2 score:%.2f' %metrics.r2_score(y_valid, pred))"
   ]
  },
  {
   "cell_type": "code",
   "execution_count": 68,
   "metadata": {},
   "outputs": [
    {
     "name": "stdout",
     "output_type": "stream",
     "text": [
      "train evaluation :\n",
      "R2 score:0.14\n"
     ]
    }
   ],
   "source": [
    "from sklearn.linear_model import Lasso,Ridge\n",
    "\n",
    "model4 = Lasso(alpha = 0.01)\n",
    "model4.fit(X_train,y_train)\n",
    "pred = model4.predict(X_valid)\n",
    "print('train evaluation :')\n",
    "print('R2 score:%.2f'%metrics.r2_score(y_valid, pred))\n",
    "#使用lasso驗證效果"
   ]
  },
  {
   "cell_type": "code",
   "execution_count": 69,
   "metadata": {},
   "outputs": [
    {
     "name": "stdout",
     "output_type": "stream",
     "text": [
      "train evaluation :\n",
      "R2 score:0.13\n"
     ]
    }
   ],
   "source": [
    "model5 = Ridge(alpha = 0.01)\n",
    "model5.fit(X_train,y_train)\n",
    "pred = model5.predict(X_valid)\n",
    "print('train evaluation :')\n",
    "print('R2 score:%.2f'%metrics.r2_score(y_valid, pred))\n",
    "#使用ridge驗證"
   ]
  },
  {
   "cell_type": "code",
   "execution_count": 70,
   "metadata": {},
   "outputs": [
    {
     "name": "stdout",
     "output_type": "stream",
     "text": [
      "(893243, 6) (223311, 6)\n",
      "(893243,) (223311,)\n"
     ]
    }
   ],
   "source": [
    "from sklearn.preprocessing import MinMaxScaler\n",
    "\n",
    "scaler = MinMaxScaler()\n",
    "the_better_data = scaler.fit_transform(training_set)\n",
    "X_train, X_valid, y_train, y_valid = train_test_split(the_better_data, target, test_size=0.2, random_state= 12, shuffle=False)\n",
    "print(X_train.shape,X_valid.shape)\n",
    "print(y_train.shape,y_valid.shape)"
   ]
  },
  {
   "cell_type": "code",
   "execution_count": 71,
   "metadata": {},
   "outputs": [
    {
     "name": "stdout",
     "output_type": "stream",
     "text": [
      "R2 score:0.13\n"
     ]
    }
   ],
   "source": [
    "model1 = LinearRegression()#建立模型\n",
    "model1.fit(X_train,y_train)#訓練模型\n",
    "pred = model1.predict(X_valid)#模型預測\n",
    "print('R2 score:%.2f'%metrics.r2_score(y_valid, pred))"
   ]
  },
  {
   "cell_type": "code",
   "execution_count": 72,
   "metadata": {},
   "outputs": [
    {
     "name": "stdout",
     "output_type": "stream",
     "text": [
      "train evaluation :\n",
      "R2 score:0.14\n"
     ]
    }
   ],
   "source": [
    "model4 = Lasso(alpha = 0.01)\n",
    "model4.fit(X_train,y_train)\n",
    "pred = model4.predict(X_valid)\n",
    "print('train evaluation :')\n",
    "print('R2 score:%.2f'%metrics.r2_score(y_valid, pred))"
   ]
  },
  {
   "cell_type": "code",
   "execution_count": 73,
   "metadata": {},
   "outputs": [
    {
     "name": "stdout",
     "output_type": "stream",
     "text": [
      "train evaluation :\n",
      "R2 score:0.13\n"
     ]
    }
   ],
   "source": [
    "model5 = Ridge(alpha = 0.01)\n",
    "model5.fit(X_train,y_train)\n",
    "pred = model5.predict(X_valid)\n",
    "print('train evaluation :')\n",
    "print('R2 score:%.2f'%metrics.r2_score(y_valid, pred))"
   ]
  },
  {
   "cell_type": "code",
   "execution_count": 74,
   "metadata": {},
   "outputs": [
    {
     "name": "stdout",
     "output_type": "stream",
     "text": [
      "(1116554, 6)\n",
      "(41223, 6)\n"
     ]
    }
   ],
   "source": [
    "print(training_set.shape)\n",
    "print(testing_set.shape)"
   ]
  },
  {
   "cell_type": "code",
   "execution_count": 75,
   "metadata": {},
   "outputs": [
    {
     "name": "stderr",
     "output_type": "stream",
     "text": [
      "/opt/conda/lib/python3.6/site-packages/sklearn/utils/validation.py:475: DataConversionWarning: Data with input dtype int64 was converted to float64 by MinMaxScaler.\n",
      "  warnings.warn(msg, DataConversionWarning)\n"
     ]
    }
   ],
   "source": [
    "from sklearn import preprocessing\n",
    "le = preprocessing.LabelEncoder()\n",
    "\n",
    "new_Date = le.fit_transform(testing_set.Date)\n",
    "testing_set.Date = new_Date\n",
    "\n",
    "new_Time = le.fit_transform(testing_set.Time)\n",
    "testing_set.Time = new_Time\n",
    "\n",
    "from sklearn.preprocessing import MinMaxScaler\n",
    "scaler = MinMaxScaler()\n",
    "testing_set['Time'] = scaler.fit_transform(testing_set['Time'].values.reshape(-1,1))"
   ]
  },
  {
   "cell_type": "code",
   "execution_count": 76,
   "metadata": {},
   "outputs": [
    {
     "data": {
      "text/html": [
       "<div>\n",
       "<style scoped>\n",
       "    .dataframe tbody tr th:only-of-type {\n",
       "        vertical-align: middle;\n",
       "    }\n",
       "\n",
       "    .dataframe tbody tr th {\n",
       "        vertical-align: top;\n",
       "    }\n",
       "\n",
       "    .dataframe thead th {\n",
       "        text-align: right;\n",
       "    }\n",
       "</style>\n",
       "<table border=\"1\" class=\"dataframe\">\n",
       "  <thead>\n",
       "    <tr style=\"text-align: right;\">\n",
       "      <th></th>\n",
       "      <th>Date</th>\n",
       "      <th>Time</th>\n",
       "      <th>Temperature</th>\n",
       "      <th>Humidity</th>\n",
       "      <th>lat</th>\n",
       "      <th>lon</th>\n",
       "    </tr>\n",
       "  </thead>\n",
       "  <tbody>\n",
       "    <tr>\n",
       "      <th>0</th>\n",
       "      <td>0</td>\n",
       "      <td>0.002672</td>\n",
       "      <td>18.62</td>\n",
       "      <td>92.0</td>\n",
       "      <td>23.741</td>\n",
       "      <td>120.755</td>\n",
       "    </tr>\n",
       "    <tr>\n",
       "      <th>1</th>\n",
       "      <td>0</td>\n",
       "      <td>0.006680</td>\n",
       "      <td>18.75</td>\n",
       "      <td>92.0</td>\n",
       "      <td>23.741</td>\n",
       "      <td>120.755</td>\n",
       "    </tr>\n",
       "    <tr>\n",
       "      <th>2</th>\n",
       "      <td>0</td>\n",
       "      <td>0.010361</td>\n",
       "      <td>18.62</td>\n",
       "      <td>92.0</td>\n",
       "      <td>23.741</td>\n",
       "      <td>120.755</td>\n",
       "    </tr>\n",
       "    <tr>\n",
       "      <th>3</th>\n",
       "      <td>0</td>\n",
       "      <td>0.014339</td>\n",
       "      <td>18.62</td>\n",
       "      <td>92.0</td>\n",
       "      <td>23.741</td>\n",
       "      <td>120.755</td>\n",
       "    </tr>\n",
       "    <tr>\n",
       "      <th>4</th>\n",
       "      <td>0</td>\n",
       "      <td>0.018228</td>\n",
       "      <td>18.62</td>\n",
       "      <td>92.0</td>\n",
       "      <td>23.741</td>\n",
       "      <td>120.755</td>\n",
       "    </tr>\n",
       "  </tbody>\n",
       "</table>\n",
       "</div>"
      ],
      "text/plain": [
       "   Date      Time  Temperature  Humidity     lat      lon\n",
       "0     0  0.002672        18.62      92.0  23.741  120.755\n",
       "1     0  0.006680        18.75      92.0  23.741  120.755\n",
       "2     0  0.010361        18.62      92.0  23.741  120.755\n",
       "3     0  0.014339        18.62      92.0  23.741  120.755\n",
       "4     0  0.018228        18.62      92.0  23.741  120.755"
      ]
     },
     "execution_count": 76,
     "metadata": {},
     "output_type": "execute_result"
    }
   ],
   "source": [
    "testing_set.head()"
   ]
  },
  {
   "cell_type": "code",
   "execution_count": 77,
   "metadata": {},
   "outputs": [
    {
     "data": {
      "text/plain": [
       "\"\\nthe_better_testing = scaler.fit_transform(testing_set)\\nresult = model4.predict(the_better_testing)\\nsubmit = pd.concat([id_test, pd.Series(result)], axis=1)\\nsubmit.columns = ['device_id', 'pred_pm25']\\n\""
      ]
     },
     "execution_count": 77,
     "metadata": {},
     "output_type": "execute_result"
    }
   ],
   "source": [
    "'''\n",
    "the_better_testing = scaler.fit_transform(testing_set)\n",
    "result = model4.predict(the_better_testing)\n",
    "\n",
    "submit = pd.concat([id_test, pd.Series(result)], axis=1)\n",
    "submit.columns = ['device_id', 'pred_pm25']\n",
    "'''"
   ]
  },
  {
   "cell_type": "code",
   "execution_count": 96,
   "metadata": {},
   "outputs": [],
   "source": [
    "example = pd.read_csv(\"submission.csv\")\n",
    "id_sub = example.device_id\n",
    "the_better_testing = scaler.fit_transform(testing_set)\n",
    "result = model4.predict(the_better_testing)\n",
    "\n",
    "pm25_result = pd.concat([id_test, pd.Series(result)], axis=1)\n",
    "a = pm25_result.groupby(['device_id']).mean()\n",
    "b = np.around(a.values, decimals=2)  #四捨五入 取道小數點下第二位\n",
    "b = pd.DataFrame(b)\n",
    "\n",
    "submit = pd.concat([id_sub, b], axis=1)\n",
    "submit.columns = ['device_id', 'pred_pm25']"
   ]
  },
  {
   "cell_type": "code",
   "execution_count": 1,
   "metadata": {},
   "outputs": [
    {
     "ename": "NameError",
     "evalue": "name 'pm25_result' is not defined",
     "output_type": "error",
     "traceback": [
      "\u001b[0;31m---------------------------------------------------------------------------\u001b[0m",
      "\u001b[0;31mNameError\u001b[0m                                 Traceback (most recent call last)",
      "\u001b[0;32m<ipython-input-1-55425436784d>\u001b[0m in \u001b[0;36m<module>\u001b[0;34m()\u001b[0m\n\u001b[0;32m----> 1\u001b[0;31m \u001b[0mpm25_result\u001b[0m\u001b[0;34m.\u001b[0m\u001b[0mhead\u001b[0m\u001b[0;34m(\u001b[0m\u001b[0;36m5\u001b[0m\u001b[0;34m)\u001b[0m\u001b[0;34m\u001b[0m\u001b[0m\n\u001b[0m",
      "\u001b[0;31mNameError\u001b[0m: name 'pm25_result' is not defined"
     ]
    }
   ],
   "source": [
    "pm25_result.head(5)"
   ]
  },
  {
   "cell_type": "code",
   "execution_count": 98,
   "metadata": {},
   "outputs": [],
   "source": [
    "submit.to_csv('Result_ML.csv', index=False) "
   ]
  },
  {
   "cell_type": "code",
   "execution_count": null,
   "metadata": {},
   "outputs": [],
   "source": []
  },
  {
   "cell_type": "code",
   "execution_count": null,
   "metadata": {},
   "outputs": [],
   "source": []
  }
 ],
 "metadata": {
  "kernelspec": {
   "display_name": "Python 3",
   "language": "python",
   "name": "python3"
  },
  "language_info": {
   "codemirror_mode": {
    "name": "ipython",
    "version": 3
   },
   "file_extension": ".py",
   "mimetype": "text/x-python",
   "name": "python",
   "nbconvert_exporter": "python",
   "pygments_lexer": "ipython3",
   "version": "3.6.6"
  }
 },
 "nbformat": 4,
 "nbformat_minor": 2
}
